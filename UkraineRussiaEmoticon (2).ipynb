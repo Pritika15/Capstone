{
  "nbformat": 4,
  "nbformat_minor": 0,
  "metadata": {
    "colab": {
      "provenance": []
    },
    "kernelspec": {
      "name": "python3",
      "display_name": "Python 3"
    },
    "language_info": {
      "name": "python"
    }
  },
  "cells": [
    {
      "cell_type": "code",
      "execution_count": null,
      "metadata": {
        "colab": {
          "base_uri": "https://localhost:8080/"
        },
        "id": "AKmFlD7lQyXT",
        "outputId": "b606bfa3-ef56-407c-a0cb-9b5beabed8fe"
      },
      "outputs": [
        {
          "output_type": "stream",
          "name": "stdout",
          "text": [
            "Downloading...\n",
            "From: https://drive.google.com/uc?id=1cIYg8XBSK-yIwMayCIVsz4FeUCKfZHlJ\n",
            "To: /content/EmoticonHuggingFace.csv.zip\n",
            "100% 29.3M/29.3M [00:00<00:00, 39.6MB/s]\n"
          ]
        }
      ],
      "source": [
        "!gdown 1cIYg8XBSK-yIwMayCIVsz4FeUCKfZHlJ"
      ]
    },
    {
      "cell_type": "code",
      "source": [
        "!unzip EmoticonHuggingFace.csv.zip"
      ],
      "metadata": {
        "colab": {
          "base_uri": "https://localhost:8080/"
        },
        "id": "wejS7bx3RhbI",
        "outputId": "774c0f01-7ee6-435d-d8e7-8dfb631a15ad"
      },
      "execution_count": null,
      "outputs": [
        {
          "output_type": "stream",
          "name": "stdout",
          "text": [
            "Archive:  EmoticonHuggingFace.csv.zip\n",
            "  inflating: EmoticonHuggingFace.csv  \n"
          ]
        }
      ]
    },
    {
      "cell_type": "code",
      "source": [
        "import pandas as pd\n"
      ],
      "metadata": {
        "id": "F6UMJUqjRx1L"
      },
      "execution_count": null,
      "outputs": []
    },
    {
      "cell_type": "code",
      "source": [
        "df=pd.read_csv('EmoticonHuggingFace.csv')"
      ],
      "metadata": {
        "id": "ocbDy3yTR1vD"
      },
      "execution_count": null,
      "outputs": []
    },
    {
      "cell_type": "code",
      "source": [
        "df"
      ],
      "metadata": {
        "colab": {
          "base_uri": "https://localhost:8080/",
          "height": 822
        },
        "id": "ZUcfbQyDR7l0",
        "outputId": "ecd7ccee-fb09-4937-a9d5-79ebc8c259f8"
      },
      "execution_count": null,
      "outputs": [
        {
          "output_type": "execute_result",
          "data": {
            "text/plain": [
              "        Unnamed: 0.4  Unnamed: 0.3  Unnamed: 0.2  Unnamed: 0.1  Unnamed: 0  \\\n",
              "0                  0             0             0             0           0   \n",
              "1                  1             1             1             1           1   \n",
              "2                  2             2             2             2           2   \n",
              "3                  3             3             3             3           3   \n",
              "4                  4             4             4             4           4   \n",
              "...              ...           ...           ...           ...         ...   \n",
              "247486        247486        672114        672114        672114      190910   \n",
              "247487        247487        672115        672115        672115      190911   \n",
              "247488        247488        672120        672120        672120      190916   \n",
              "247489        247489        672121        672121        672121      190917   \n",
              "247490        247490        672124        672124        672124      190920   \n",
              "\n",
              "                                                        0  \\\n",
              "0       #tfiglobal geopolitics aug #macron  legitimise...   \n",
              "1       🇺🇦🇷🇺⚡the armed forces of ukraine attacked the ...   \n",
              "2       @kminorschneider @miriam @scottuhltx 😥 🇺🇦 help...   \n",
              "3       darya dugina daughter of “putin’s brain” alexa...   \n",
              "4       @huxijin_gt i knew u don't know the proper wor...   \n",
              "...                                                   ...   \n",
              "247486  time to stop the war 🙏 #timepoy #ukraine @time...   \n",
              "247487  beautiful goosebumps man maaaaaximum aquarius ...   \n",
              "247488  need company to finish your morning porridge b...   \n",
              "247489  please do something if you can for us we are h...   \n",
              "247490  for iranian women✌🏻🙋🏻‍♀️great heroes❤️#womanli...   \n",
              "\n",
              "                                                     Text  \\\n",
              "0       geopolitics aug legitimises controlover ⁉️fran...   \n",
              "1       🇺🇦🇷🇺⚡the armed forces of ukraine attacked the ...   \n",
              "2       😥 🇺🇦 help stop putin at president zelensky s 🌍...   \n",
              "3       darya dugina daughter of “putin’s brain” alexa...   \n",
              "4       gt i knew you don t know the proper word for s...   \n",
              "...                                                   ...   \n",
              "247486         time to stop the war 🙏 zelenska tv ukraine   \n",
              "247487  beautiful goosebumps man maaaaaximum aquarius ...   \n",
              "247488  need company to finish your morning porridge b...   \n",
              "247489  please do something if you can for us we are h...   \n",
              "247490  for iranian women✌🏻🙋🏻‍♀️great heroes❤️#womanli...   \n",
              "\n",
              "                                            LemmatizeText HuggingFaceEmoticon  \n",
              "0       geopolitics aug legitimises controlover ⁉️fran...           amusement  \n",
              "1       🇺🇦🇷🇺⚡the armed force of ukraine attacked the n...             neutral  \n",
              "2       😥 🇺🇦 help stop putin at president zelensky s 🌍...            approval  \n",
              "3       darya dugina daughter of “putin’s brain” alexa...             neutral  \n",
              "4       gt i knew you don t know the proper word for s...             neutral  \n",
              "...                                                   ...                 ...  \n",
              "247486         time to stop the war 🙏 zelenska tv ukraine             neutral  \n",
              "247487  beautiful goosebump man maaaaaximum aquarius ♒...          admiration  \n",
              "247488  need company to finish your morning porridge b...              desire  \n",
              "247489  please do something if you can for u we are ho...              desire  \n",
              "247490  for iranian women✌🏻🙋🏻‍♀️great heroes❤️#womanli...             neutral  \n",
              "\n",
              "[247491 rows x 9 columns]"
            ],
            "text/html": [
              "\n",
              "  <div id=\"df-f16535bb-8cbe-4fd1-9b58-7cfe7be692d2\" class=\"colab-df-container\">\n",
              "    <div>\n",
              "<style scoped>\n",
              "    .dataframe tbody tr th:only-of-type {\n",
              "        vertical-align: middle;\n",
              "    }\n",
              "\n",
              "    .dataframe tbody tr th {\n",
              "        vertical-align: top;\n",
              "    }\n",
              "\n",
              "    .dataframe thead th {\n",
              "        text-align: right;\n",
              "    }\n",
              "</style>\n",
              "<table border=\"1\" class=\"dataframe\">\n",
              "  <thead>\n",
              "    <tr style=\"text-align: right;\">\n",
              "      <th></th>\n",
              "      <th>Unnamed: 0.4</th>\n",
              "      <th>Unnamed: 0.3</th>\n",
              "      <th>Unnamed: 0.2</th>\n",
              "      <th>Unnamed: 0.1</th>\n",
              "      <th>Unnamed: 0</th>\n",
              "      <th>0</th>\n",
              "      <th>Text</th>\n",
              "      <th>LemmatizeText</th>\n",
              "      <th>HuggingFaceEmoticon</th>\n",
              "    </tr>\n",
              "  </thead>\n",
              "  <tbody>\n",
              "    <tr>\n",
              "      <th>0</th>\n",
              "      <td>0</td>\n",
              "      <td>0</td>\n",
              "      <td>0</td>\n",
              "      <td>0</td>\n",
              "      <td>0</td>\n",
              "      <td>#tfiglobal geopolitics aug #macron  legitimise...</td>\n",
              "      <td>geopolitics aug legitimises controlover ⁉️fran...</td>\n",
              "      <td>geopolitics aug legitimises controlover ⁉️fran...</td>\n",
              "      <td>amusement</td>\n",
              "    </tr>\n",
              "    <tr>\n",
              "      <th>1</th>\n",
              "      <td>1</td>\n",
              "      <td>1</td>\n",
              "      <td>1</td>\n",
              "      <td>1</td>\n",
              "      <td>1</td>\n",
              "      <td>🇺🇦🇷🇺⚡the armed forces of ukraine attacked the ...</td>\n",
              "      <td>🇺🇦🇷🇺⚡the armed forces of ukraine attacked the ...</td>\n",
              "      <td>🇺🇦🇷🇺⚡the armed force of ukraine attacked the n...</td>\n",
              "      <td>neutral</td>\n",
              "    </tr>\n",
              "    <tr>\n",
              "      <th>2</th>\n",
              "      <td>2</td>\n",
              "      <td>2</td>\n",
              "      <td>2</td>\n",
              "      <td>2</td>\n",
              "      <td>2</td>\n",
              "      <td>@kminorschneider @miriam @scottuhltx 😥 🇺🇦 help...</td>\n",
              "      <td>😥 🇺🇦 help stop putin at president zelensky s 🌍...</td>\n",
              "      <td>😥 🇺🇦 help stop putin at president zelensky s 🌍...</td>\n",
              "      <td>approval</td>\n",
              "    </tr>\n",
              "    <tr>\n",
              "      <th>3</th>\n",
              "      <td>3</td>\n",
              "      <td>3</td>\n",
              "      <td>3</td>\n",
              "      <td>3</td>\n",
              "      <td>3</td>\n",
              "      <td>darya dugina daughter of “putin’s brain” alexa...</td>\n",
              "      <td>darya dugina daughter of “putin’s brain” alexa...</td>\n",
              "      <td>darya dugina daughter of “putin’s brain” alexa...</td>\n",
              "      <td>neutral</td>\n",
              "    </tr>\n",
              "    <tr>\n",
              "      <th>4</th>\n",
              "      <td>4</td>\n",
              "      <td>4</td>\n",
              "      <td>4</td>\n",
              "      <td>4</td>\n",
              "      <td>4</td>\n",
              "      <td>@huxijin_gt i knew u don't know the proper wor...</td>\n",
              "      <td>gt i knew you don t know the proper word for s...</td>\n",
              "      <td>gt i knew you don t know the proper word for s...</td>\n",
              "      <td>neutral</td>\n",
              "    </tr>\n",
              "    <tr>\n",
              "      <th>...</th>\n",
              "      <td>...</td>\n",
              "      <td>...</td>\n",
              "      <td>...</td>\n",
              "      <td>...</td>\n",
              "      <td>...</td>\n",
              "      <td>...</td>\n",
              "      <td>...</td>\n",
              "      <td>...</td>\n",
              "      <td>...</td>\n",
              "    </tr>\n",
              "    <tr>\n",
              "      <th>247486</th>\n",
              "      <td>247486</td>\n",
              "      <td>672114</td>\n",
              "      <td>672114</td>\n",
              "      <td>672114</td>\n",
              "      <td>190910</td>\n",
              "      <td>time to stop the war 🙏 #timepoy #ukraine @time...</td>\n",
              "      <td>time to stop the war 🙏 zelenska tv ukraine</td>\n",
              "      <td>time to stop the war 🙏 zelenska tv ukraine</td>\n",
              "      <td>neutral</td>\n",
              "    </tr>\n",
              "    <tr>\n",
              "      <th>247487</th>\n",
              "      <td>247487</td>\n",
              "      <td>672115</td>\n",
              "      <td>672115</td>\n",
              "      <td>672115</td>\n",
              "      <td>190911</td>\n",
              "      <td>beautiful goosebumps man maaaaaximum aquarius ...</td>\n",
              "      <td>beautiful goosebumps man maaaaaximum aquarius ...</td>\n",
              "      <td>beautiful goosebump man maaaaaximum aquarius ♒...</td>\n",
              "      <td>admiration</td>\n",
              "    </tr>\n",
              "    <tr>\n",
              "      <th>247488</th>\n",
              "      <td>247488</td>\n",
              "      <td>672120</td>\n",
              "      <td>672120</td>\n",
              "      <td>672120</td>\n",
              "      <td>190916</td>\n",
              "      <td>need company to finish your morning porridge b...</td>\n",
              "      <td>need company to finish your morning porridge b...</td>\n",
              "      <td>need company to finish your morning porridge b...</td>\n",
              "      <td>desire</td>\n",
              "    </tr>\n",
              "    <tr>\n",
              "      <th>247489</th>\n",
              "      <td>247489</td>\n",
              "      <td>672121</td>\n",
              "      <td>672121</td>\n",
              "      <td>672121</td>\n",
              "      <td>190917</td>\n",
              "      <td>please do something if you can for us we are h...</td>\n",
              "      <td>please do something if you can for us we are h...</td>\n",
              "      <td>please do something if you can for u we are ho...</td>\n",
              "      <td>desire</td>\n",
              "    </tr>\n",
              "    <tr>\n",
              "      <th>247490</th>\n",
              "      <td>247490</td>\n",
              "      <td>672124</td>\n",
              "      <td>672124</td>\n",
              "      <td>672124</td>\n",
              "      <td>190920</td>\n",
              "      <td>for iranian women✌🏻🙋🏻‍♀️great heroes❤️#womanli...</td>\n",
              "      <td>for iranian women✌🏻🙋🏻‍♀️great heroes❤️#womanli...</td>\n",
              "      <td>for iranian women✌🏻🙋🏻‍♀️great heroes❤️#womanli...</td>\n",
              "      <td>neutral</td>\n",
              "    </tr>\n",
              "  </tbody>\n",
              "</table>\n",
              "<p>247491 rows × 9 columns</p>\n",
              "</div>\n",
              "    <div class=\"colab-df-buttons\">\n",
              "\n",
              "  <div class=\"colab-df-container\">\n",
              "    <button class=\"colab-df-convert\" onclick=\"convertToInteractive('df-f16535bb-8cbe-4fd1-9b58-7cfe7be692d2')\"\n",
              "            title=\"Convert this dataframe to an interactive table.\"\n",
              "            style=\"display:none;\">\n",
              "\n",
              "  <svg xmlns=\"http://www.w3.org/2000/svg\" height=\"24px\" viewBox=\"0 -960 960 960\">\n",
              "    <path d=\"M120-120v-720h720v720H120Zm60-500h600v-160H180v160Zm220 220h160v-160H400v160Zm0 220h160v-160H400v160ZM180-400h160v-160H180v160Zm440 0h160v-160H620v160ZM180-180h160v-160H180v160Zm440 0h160v-160H620v160Z\"/>\n",
              "  </svg>\n",
              "    </button>\n",
              "\n",
              "  <style>\n",
              "    .colab-df-container {\n",
              "      display:flex;\n",
              "      gap: 12px;\n",
              "    }\n",
              "\n",
              "    .colab-df-convert {\n",
              "      background-color: #E8F0FE;\n",
              "      border: none;\n",
              "      border-radius: 50%;\n",
              "      cursor: pointer;\n",
              "      display: none;\n",
              "      fill: #1967D2;\n",
              "      height: 32px;\n",
              "      padding: 0 0 0 0;\n",
              "      width: 32px;\n",
              "    }\n",
              "\n",
              "    .colab-df-convert:hover {\n",
              "      background-color: #E2EBFA;\n",
              "      box-shadow: 0px 1px 2px rgba(60, 64, 67, 0.3), 0px 1px 3px 1px rgba(60, 64, 67, 0.15);\n",
              "      fill: #174EA6;\n",
              "    }\n",
              "\n",
              "    .colab-df-buttons div {\n",
              "      margin-bottom: 4px;\n",
              "    }\n",
              "\n",
              "    [theme=dark] .colab-df-convert {\n",
              "      background-color: #3B4455;\n",
              "      fill: #D2E3FC;\n",
              "    }\n",
              "\n",
              "    [theme=dark] .colab-df-convert:hover {\n",
              "      background-color: #434B5C;\n",
              "      box-shadow: 0px 1px 3px 1px rgba(0, 0, 0, 0.15);\n",
              "      filter: drop-shadow(0px 1px 2px rgba(0, 0, 0, 0.3));\n",
              "      fill: #FFFFFF;\n",
              "    }\n",
              "  </style>\n",
              "\n",
              "    <script>\n",
              "      const buttonEl =\n",
              "        document.querySelector('#df-f16535bb-8cbe-4fd1-9b58-7cfe7be692d2 button.colab-df-convert');\n",
              "      buttonEl.style.display =\n",
              "        google.colab.kernel.accessAllowed ? 'block' : 'none';\n",
              "\n",
              "      async function convertToInteractive(key) {\n",
              "        const element = document.querySelector('#df-f16535bb-8cbe-4fd1-9b58-7cfe7be692d2');\n",
              "        const dataTable =\n",
              "          await google.colab.kernel.invokeFunction('convertToInteractive',\n",
              "                                                    [key], {});\n",
              "        if (!dataTable) return;\n",
              "\n",
              "        const docLinkHtml = 'Like what you see? Visit the ' +\n",
              "          '<a target=\"_blank\" href=https://colab.research.google.com/notebooks/data_table.ipynb>data table notebook</a>'\n",
              "          + ' to learn more about interactive tables.';\n",
              "        element.innerHTML = '';\n",
              "        dataTable['output_type'] = 'display_data';\n",
              "        await google.colab.output.renderOutput(dataTable, element);\n",
              "        const docLink = document.createElement('div');\n",
              "        docLink.innerHTML = docLinkHtml;\n",
              "        element.appendChild(docLink);\n",
              "      }\n",
              "    </script>\n",
              "  </div>\n",
              "\n",
              "\n",
              "<div id=\"df-61a7dc9d-c2bb-4a55-b42c-8fa309b48001\">\n",
              "  <button class=\"colab-df-quickchart\" onclick=\"quickchart('df-61a7dc9d-c2bb-4a55-b42c-8fa309b48001')\"\n",
              "            title=\"Suggest charts\"\n",
              "            style=\"display:none;\">\n",
              "\n",
              "<svg xmlns=\"http://www.w3.org/2000/svg\" height=\"24px\"viewBox=\"0 0 24 24\"\n",
              "     width=\"24px\">\n",
              "    <g>\n",
              "        <path d=\"M19 3H5c-1.1 0-2 .9-2 2v14c0 1.1.9 2 2 2h14c1.1 0 2-.9 2-2V5c0-1.1-.9-2-2-2zM9 17H7v-7h2v7zm4 0h-2V7h2v10zm4 0h-2v-4h2v4z\"/>\n",
              "    </g>\n",
              "</svg>\n",
              "  </button>\n",
              "\n",
              "<style>\n",
              "  .colab-df-quickchart {\n",
              "      --bg-color: #E8F0FE;\n",
              "      --fill-color: #1967D2;\n",
              "      --hover-bg-color: #E2EBFA;\n",
              "      --hover-fill-color: #174EA6;\n",
              "      --disabled-fill-color: #AAA;\n",
              "      --disabled-bg-color: #DDD;\n",
              "  }\n",
              "\n",
              "  [theme=dark] .colab-df-quickchart {\n",
              "      --bg-color: #3B4455;\n",
              "      --fill-color: #D2E3FC;\n",
              "      --hover-bg-color: #434B5C;\n",
              "      --hover-fill-color: #FFFFFF;\n",
              "      --disabled-bg-color: #3B4455;\n",
              "      --disabled-fill-color: #666;\n",
              "  }\n",
              "\n",
              "  .colab-df-quickchart {\n",
              "    background-color: var(--bg-color);\n",
              "    border: none;\n",
              "    border-radius: 50%;\n",
              "    cursor: pointer;\n",
              "    display: none;\n",
              "    fill: var(--fill-color);\n",
              "    height: 32px;\n",
              "    padding: 0;\n",
              "    width: 32px;\n",
              "  }\n",
              "\n",
              "  .colab-df-quickchart:hover {\n",
              "    background-color: var(--hover-bg-color);\n",
              "    box-shadow: 0 1px 2px rgba(60, 64, 67, 0.3), 0 1px 3px 1px rgba(60, 64, 67, 0.15);\n",
              "    fill: var(--button-hover-fill-color);\n",
              "  }\n",
              "\n",
              "  .colab-df-quickchart-complete:disabled,\n",
              "  .colab-df-quickchart-complete:disabled:hover {\n",
              "    background-color: var(--disabled-bg-color);\n",
              "    fill: var(--disabled-fill-color);\n",
              "    box-shadow: none;\n",
              "  }\n",
              "\n",
              "  .colab-df-spinner {\n",
              "    border: 2px solid var(--fill-color);\n",
              "    border-color: transparent;\n",
              "    border-bottom-color: var(--fill-color);\n",
              "    animation:\n",
              "      spin 1s steps(1) infinite;\n",
              "  }\n",
              "\n",
              "  @keyframes spin {\n",
              "    0% {\n",
              "      border-color: transparent;\n",
              "      border-bottom-color: var(--fill-color);\n",
              "      border-left-color: var(--fill-color);\n",
              "    }\n",
              "    20% {\n",
              "      border-color: transparent;\n",
              "      border-left-color: var(--fill-color);\n",
              "      border-top-color: var(--fill-color);\n",
              "    }\n",
              "    30% {\n",
              "      border-color: transparent;\n",
              "      border-left-color: var(--fill-color);\n",
              "      border-top-color: var(--fill-color);\n",
              "      border-right-color: var(--fill-color);\n",
              "    }\n",
              "    40% {\n",
              "      border-color: transparent;\n",
              "      border-right-color: var(--fill-color);\n",
              "      border-top-color: var(--fill-color);\n",
              "    }\n",
              "    60% {\n",
              "      border-color: transparent;\n",
              "      border-right-color: var(--fill-color);\n",
              "    }\n",
              "    80% {\n",
              "      border-color: transparent;\n",
              "      border-right-color: var(--fill-color);\n",
              "      border-bottom-color: var(--fill-color);\n",
              "    }\n",
              "    90% {\n",
              "      border-color: transparent;\n",
              "      border-bottom-color: var(--fill-color);\n",
              "    }\n",
              "  }\n",
              "</style>\n",
              "\n",
              "  <script>\n",
              "    async function quickchart(key) {\n",
              "      const quickchartButtonEl =\n",
              "        document.querySelector('#' + key + ' button');\n",
              "      quickchartButtonEl.disabled = true;  // To prevent multiple clicks.\n",
              "      quickchartButtonEl.classList.add('colab-df-spinner');\n",
              "      try {\n",
              "        const charts = await google.colab.kernel.invokeFunction(\n",
              "            'suggestCharts', [key], {});\n",
              "      } catch (error) {\n",
              "        console.error('Error during call to suggestCharts:', error);\n",
              "      }\n",
              "      quickchartButtonEl.classList.remove('colab-df-spinner');\n",
              "      quickchartButtonEl.classList.add('colab-df-quickchart-complete');\n",
              "    }\n",
              "    (() => {\n",
              "      let quickchartButtonEl =\n",
              "        document.querySelector('#df-61a7dc9d-c2bb-4a55-b42c-8fa309b48001 button');\n",
              "      quickchartButtonEl.style.display =\n",
              "        google.colab.kernel.accessAllowed ? 'block' : 'none';\n",
              "    })();\n",
              "  </script>\n",
              "</div>\n",
              "\n",
              "  <div id=\"id_f71d6597-a9f7-4be1-98af-883fd82e5ddb\">\n",
              "    <style>\n",
              "      .colab-df-generate {\n",
              "        background-color: #E8F0FE;\n",
              "        border: none;\n",
              "        border-radius: 50%;\n",
              "        cursor: pointer;\n",
              "        display: none;\n",
              "        fill: #1967D2;\n",
              "        height: 32px;\n",
              "        padding: 0 0 0 0;\n",
              "        width: 32px;\n",
              "      }\n",
              "\n",
              "      .colab-df-generate:hover {\n",
              "        background-color: #E2EBFA;\n",
              "        box-shadow: 0px 1px 2px rgba(60, 64, 67, 0.3), 0px 1px 3px 1px rgba(60, 64, 67, 0.15);\n",
              "        fill: #174EA6;\n",
              "      }\n",
              "\n",
              "      [theme=dark] .colab-df-generate {\n",
              "        background-color: #3B4455;\n",
              "        fill: #D2E3FC;\n",
              "      }\n",
              "\n",
              "      [theme=dark] .colab-df-generate:hover {\n",
              "        background-color: #434B5C;\n",
              "        box-shadow: 0px 1px 3px 1px rgba(0, 0, 0, 0.15);\n",
              "        filter: drop-shadow(0px 1px 2px rgba(0, 0, 0, 0.3));\n",
              "        fill: #FFFFFF;\n",
              "      }\n",
              "    </style>\n",
              "    <button class=\"colab-df-generate\" onclick=\"generateWithVariable('df')\"\n",
              "            title=\"Generate code using this dataframe.\"\n",
              "            style=\"display:none;\">\n",
              "\n",
              "  <svg xmlns=\"http://www.w3.org/2000/svg\" height=\"24px\"viewBox=\"0 0 24 24\"\n",
              "       width=\"24px\">\n",
              "    <path d=\"M7,19H8.4L18.45,9,17,7.55,7,17.6ZM5,21V16.75L18.45,3.32a2,2,0,0,1,2.83,0l1.4,1.43a1.91,1.91,0,0,1,.58,1.4,1.91,1.91,0,0,1-.58,1.4L9.25,21ZM18.45,9,17,7.55Zm-12,3A5.31,5.31,0,0,0,4.9,8.1,5.31,5.31,0,0,0,1,6.5,5.31,5.31,0,0,0,4.9,4.9,5.31,5.31,0,0,0,6.5,1,5.31,5.31,0,0,0,8.1,4.9,5.31,5.31,0,0,0,12,6.5,5.46,5.46,0,0,0,6.5,12Z\"/>\n",
              "  </svg>\n",
              "    </button>\n",
              "    <script>\n",
              "      (() => {\n",
              "      const buttonEl =\n",
              "        document.querySelector('#id_f71d6597-a9f7-4be1-98af-883fd82e5ddb button.colab-df-generate');\n",
              "      buttonEl.style.display =\n",
              "        google.colab.kernel.accessAllowed ? 'block' : 'none';\n",
              "\n",
              "      buttonEl.onclick = () => {\n",
              "        google.colab.notebook.generateWithVariable('df');\n",
              "      }\n",
              "      })();\n",
              "    </script>\n",
              "  </div>\n",
              "\n",
              "    </div>\n",
              "  </div>\n"
            ]
          },
          "metadata": {},
          "execution_count": 5
        }
      ]
    },
    {
      "cell_type": "code",
      "source": [
        "columns_to_remove = ['Unnamed: 0.4',\t'Unnamed: 0.3',\t'Unnamed: 0.2',\t'Unnamed: 0.1',\t'Unnamed: 0'\t,'0',\t'Text']\n",
        "\n",
        "# Remove the specified columns\n",
        "df = df.drop(columns=columns_to_remove)"
      ],
      "metadata": {
        "id": "ohTSfYM4AWej"
      },
      "execution_count": null,
      "outputs": []
    },
    {
      "cell_type": "code",
      "source": [
        "df"
      ],
      "metadata": {
        "colab": {
          "base_uri": "https://localhost:8080/",
          "height": 423
        },
        "id": "VcjQyrJlBvGr",
        "outputId": "dd32592a-b8e5-427e-90f3-9d2fdad411fd"
      },
      "execution_count": null,
      "outputs": [
        {
          "output_type": "execute_result",
          "data": {
            "text/plain": [
              "                                            LemmatizeText HuggingFaceEmoticon\n",
              "0       geopolitics aug legitimises controlover ⁉️fran...           amusement\n",
              "1       🇺🇦🇷🇺⚡the armed force of ukraine attacked the n...             neutral\n",
              "2       😥 🇺🇦 help stop putin at president zelensky s 🌍...            approval\n",
              "3       darya dugina daughter of “putin’s brain” alexa...             neutral\n",
              "4       gt i knew you don t know the proper word for s...             neutral\n",
              "...                                                   ...                 ...\n",
              "247486         time to stop the war 🙏 zelenska tv ukraine             neutral\n",
              "247487  beautiful goosebump man maaaaaximum aquarius ♒...          admiration\n",
              "247488  need company to finish your morning porridge b...              desire\n",
              "247489  please do something if you can for u we are ho...              desire\n",
              "247490  for iranian women✌🏻🙋🏻‍♀️great heroes❤️#womanli...             neutral\n",
              "\n",
              "[247491 rows x 2 columns]"
            ],
            "text/html": [
              "\n",
              "  <div id=\"df-f8e2cbe2-8fea-4783-899e-f88d7c440b60\" class=\"colab-df-container\">\n",
              "    <div>\n",
              "<style scoped>\n",
              "    .dataframe tbody tr th:only-of-type {\n",
              "        vertical-align: middle;\n",
              "    }\n",
              "\n",
              "    .dataframe tbody tr th {\n",
              "        vertical-align: top;\n",
              "    }\n",
              "\n",
              "    .dataframe thead th {\n",
              "        text-align: right;\n",
              "    }\n",
              "</style>\n",
              "<table border=\"1\" class=\"dataframe\">\n",
              "  <thead>\n",
              "    <tr style=\"text-align: right;\">\n",
              "      <th></th>\n",
              "      <th>LemmatizeText</th>\n",
              "      <th>HuggingFaceEmoticon</th>\n",
              "    </tr>\n",
              "  </thead>\n",
              "  <tbody>\n",
              "    <tr>\n",
              "      <th>0</th>\n",
              "      <td>geopolitics aug legitimises controlover ⁉️fran...</td>\n",
              "      <td>amusement</td>\n",
              "    </tr>\n",
              "    <tr>\n",
              "      <th>1</th>\n",
              "      <td>🇺🇦🇷🇺⚡the armed force of ukraine attacked the n...</td>\n",
              "      <td>neutral</td>\n",
              "    </tr>\n",
              "    <tr>\n",
              "      <th>2</th>\n",
              "      <td>😥 🇺🇦 help stop putin at president zelensky s 🌍...</td>\n",
              "      <td>approval</td>\n",
              "    </tr>\n",
              "    <tr>\n",
              "      <th>3</th>\n",
              "      <td>darya dugina daughter of “putin’s brain” alexa...</td>\n",
              "      <td>neutral</td>\n",
              "    </tr>\n",
              "    <tr>\n",
              "      <th>4</th>\n",
              "      <td>gt i knew you don t know the proper word for s...</td>\n",
              "      <td>neutral</td>\n",
              "    </tr>\n",
              "    <tr>\n",
              "      <th>...</th>\n",
              "      <td>...</td>\n",
              "      <td>...</td>\n",
              "    </tr>\n",
              "    <tr>\n",
              "      <th>247486</th>\n",
              "      <td>time to stop the war 🙏 zelenska tv ukraine</td>\n",
              "      <td>neutral</td>\n",
              "    </tr>\n",
              "    <tr>\n",
              "      <th>247487</th>\n",
              "      <td>beautiful goosebump man maaaaaximum aquarius ♒...</td>\n",
              "      <td>admiration</td>\n",
              "    </tr>\n",
              "    <tr>\n",
              "      <th>247488</th>\n",
              "      <td>need company to finish your morning porridge b...</td>\n",
              "      <td>desire</td>\n",
              "    </tr>\n",
              "    <tr>\n",
              "      <th>247489</th>\n",
              "      <td>please do something if you can for u we are ho...</td>\n",
              "      <td>desire</td>\n",
              "    </tr>\n",
              "    <tr>\n",
              "      <th>247490</th>\n",
              "      <td>for iranian women✌🏻🙋🏻‍♀️great heroes❤️#womanli...</td>\n",
              "      <td>neutral</td>\n",
              "    </tr>\n",
              "  </tbody>\n",
              "</table>\n",
              "<p>247491 rows × 2 columns</p>\n",
              "</div>\n",
              "    <div class=\"colab-df-buttons\">\n",
              "\n",
              "  <div class=\"colab-df-container\">\n",
              "    <button class=\"colab-df-convert\" onclick=\"convertToInteractive('df-f8e2cbe2-8fea-4783-899e-f88d7c440b60')\"\n",
              "            title=\"Convert this dataframe to an interactive table.\"\n",
              "            style=\"display:none;\">\n",
              "\n",
              "  <svg xmlns=\"http://www.w3.org/2000/svg\" height=\"24px\" viewBox=\"0 -960 960 960\">\n",
              "    <path d=\"M120-120v-720h720v720H120Zm60-500h600v-160H180v160Zm220 220h160v-160H400v160Zm0 220h160v-160H400v160ZM180-400h160v-160H180v160Zm440 0h160v-160H620v160ZM180-180h160v-160H180v160Zm440 0h160v-160H620v160Z\"/>\n",
              "  </svg>\n",
              "    </button>\n",
              "\n",
              "  <style>\n",
              "    .colab-df-container {\n",
              "      display:flex;\n",
              "      gap: 12px;\n",
              "    }\n",
              "\n",
              "    .colab-df-convert {\n",
              "      background-color: #E8F0FE;\n",
              "      border: none;\n",
              "      border-radius: 50%;\n",
              "      cursor: pointer;\n",
              "      display: none;\n",
              "      fill: #1967D2;\n",
              "      height: 32px;\n",
              "      padding: 0 0 0 0;\n",
              "      width: 32px;\n",
              "    }\n",
              "\n",
              "    .colab-df-convert:hover {\n",
              "      background-color: #E2EBFA;\n",
              "      box-shadow: 0px 1px 2px rgba(60, 64, 67, 0.3), 0px 1px 3px 1px rgba(60, 64, 67, 0.15);\n",
              "      fill: #174EA6;\n",
              "    }\n",
              "\n",
              "    .colab-df-buttons div {\n",
              "      margin-bottom: 4px;\n",
              "    }\n",
              "\n",
              "    [theme=dark] .colab-df-convert {\n",
              "      background-color: #3B4455;\n",
              "      fill: #D2E3FC;\n",
              "    }\n",
              "\n",
              "    [theme=dark] .colab-df-convert:hover {\n",
              "      background-color: #434B5C;\n",
              "      box-shadow: 0px 1px 3px 1px rgba(0, 0, 0, 0.15);\n",
              "      filter: drop-shadow(0px 1px 2px rgba(0, 0, 0, 0.3));\n",
              "      fill: #FFFFFF;\n",
              "    }\n",
              "  </style>\n",
              "\n",
              "    <script>\n",
              "      const buttonEl =\n",
              "        document.querySelector('#df-f8e2cbe2-8fea-4783-899e-f88d7c440b60 button.colab-df-convert');\n",
              "      buttonEl.style.display =\n",
              "        google.colab.kernel.accessAllowed ? 'block' : 'none';\n",
              "\n",
              "      async function convertToInteractive(key) {\n",
              "        const element = document.querySelector('#df-f8e2cbe2-8fea-4783-899e-f88d7c440b60');\n",
              "        const dataTable =\n",
              "          await google.colab.kernel.invokeFunction('convertToInteractive',\n",
              "                                                    [key], {});\n",
              "        if (!dataTable) return;\n",
              "\n",
              "        const docLinkHtml = 'Like what you see? Visit the ' +\n",
              "          '<a target=\"_blank\" href=https://colab.research.google.com/notebooks/data_table.ipynb>data table notebook</a>'\n",
              "          + ' to learn more about interactive tables.';\n",
              "        element.innerHTML = '';\n",
              "        dataTable['output_type'] = 'display_data';\n",
              "        await google.colab.output.renderOutput(dataTable, element);\n",
              "        const docLink = document.createElement('div');\n",
              "        docLink.innerHTML = docLinkHtml;\n",
              "        element.appendChild(docLink);\n",
              "      }\n",
              "    </script>\n",
              "  </div>\n",
              "\n",
              "\n",
              "<div id=\"df-dc47a3d8-e8d6-4b8e-a30c-e7c31dac9d13\">\n",
              "  <button class=\"colab-df-quickchart\" onclick=\"quickchart('df-dc47a3d8-e8d6-4b8e-a30c-e7c31dac9d13')\"\n",
              "            title=\"Suggest charts\"\n",
              "            style=\"display:none;\">\n",
              "\n",
              "<svg xmlns=\"http://www.w3.org/2000/svg\" height=\"24px\"viewBox=\"0 0 24 24\"\n",
              "     width=\"24px\">\n",
              "    <g>\n",
              "        <path d=\"M19 3H5c-1.1 0-2 .9-2 2v14c0 1.1.9 2 2 2h14c1.1 0 2-.9 2-2V5c0-1.1-.9-2-2-2zM9 17H7v-7h2v7zm4 0h-2V7h2v10zm4 0h-2v-4h2v4z\"/>\n",
              "    </g>\n",
              "</svg>\n",
              "  </button>\n",
              "\n",
              "<style>\n",
              "  .colab-df-quickchart {\n",
              "      --bg-color: #E8F0FE;\n",
              "      --fill-color: #1967D2;\n",
              "      --hover-bg-color: #E2EBFA;\n",
              "      --hover-fill-color: #174EA6;\n",
              "      --disabled-fill-color: #AAA;\n",
              "      --disabled-bg-color: #DDD;\n",
              "  }\n",
              "\n",
              "  [theme=dark] .colab-df-quickchart {\n",
              "      --bg-color: #3B4455;\n",
              "      --fill-color: #D2E3FC;\n",
              "      --hover-bg-color: #434B5C;\n",
              "      --hover-fill-color: #FFFFFF;\n",
              "      --disabled-bg-color: #3B4455;\n",
              "      --disabled-fill-color: #666;\n",
              "  }\n",
              "\n",
              "  .colab-df-quickchart {\n",
              "    background-color: var(--bg-color);\n",
              "    border: none;\n",
              "    border-radius: 50%;\n",
              "    cursor: pointer;\n",
              "    display: none;\n",
              "    fill: var(--fill-color);\n",
              "    height: 32px;\n",
              "    padding: 0;\n",
              "    width: 32px;\n",
              "  }\n",
              "\n",
              "  .colab-df-quickchart:hover {\n",
              "    background-color: var(--hover-bg-color);\n",
              "    box-shadow: 0 1px 2px rgba(60, 64, 67, 0.3), 0 1px 3px 1px rgba(60, 64, 67, 0.15);\n",
              "    fill: var(--button-hover-fill-color);\n",
              "  }\n",
              "\n",
              "  .colab-df-quickchart-complete:disabled,\n",
              "  .colab-df-quickchart-complete:disabled:hover {\n",
              "    background-color: var(--disabled-bg-color);\n",
              "    fill: var(--disabled-fill-color);\n",
              "    box-shadow: none;\n",
              "  }\n",
              "\n",
              "  .colab-df-spinner {\n",
              "    border: 2px solid var(--fill-color);\n",
              "    border-color: transparent;\n",
              "    border-bottom-color: var(--fill-color);\n",
              "    animation:\n",
              "      spin 1s steps(1) infinite;\n",
              "  }\n",
              "\n",
              "  @keyframes spin {\n",
              "    0% {\n",
              "      border-color: transparent;\n",
              "      border-bottom-color: var(--fill-color);\n",
              "      border-left-color: var(--fill-color);\n",
              "    }\n",
              "    20% {\n",
              "      border-color: transparent;\n",
              "      border-left-color: var(--fill-color);\n",
              "      border-top-color: var(--fill-color);\n",
              "    }\n",
              "    30% {\n",
              "      border-color: transparent;\n",
              "      border-left-color: var(--fill-color);\n",
              "      border-top-color: var(--fill-color);\n",
              "      border-right-color: var(--fill-color);\n",
              "    }\n",
              "    40% {\n",
              "      border-color: transparent;\n",
              "      border-right-color: var(--fill-color);\n",
              "      border-top-color: var(--fill-color);\n",
              "    }\n",
              "    60% {\n",
              "      border-color: transparent;\n",
              "      border-right-color: var(--fill-color);\n",
              "    }\n",
              "    80% {\n",
              "      border-color: transparent;\n",
              "      border-right-color: var(--fill-color);\n",
              "      border-bottom-color: var(--fill-color);\n",
              "    }\n",
              "    90% {\n",
              "      border-color: transparent;\n",
              "      border-bottom-color: var(--fill-color);\n",
              "    }\n",
              "  }\n",
              "</style>\n",
              "\n",
              "  <script>\n",
              "    async function quickchart(key) {\n",
              "      const quickchartButtonEl =\n",
              "        document.querySelector('#' + key + ' button');\n",
              "      quickchartButtonEl.disabled = true;  // To prevent multiple clicks.\n",
              "      quickchartButtonEl.classList.add('colab-df-spinner');\n",
              "      try {\n",
              "        const charts = await google.colab.kernel.invokeFunction(\n",
              "            'suggestCharts', [key], {});\n",
              "      } catch (error) {\n",
              "        console.error('Error during call to suggestCharts:', error);\n",
              "      }\n",
              "      quickchartButtonEl.classList.remove('colab-df-spinner');\n",
              "      quickchartButtonEl.classList.add('colab-df-quickchart-complete');\n",
              "    }\n",
              "    (() => {\n",
              "      let quickchartButtonEl =\n",
              "        document.querySelector('#df-dc47a3d8-e8d6-4b8e-a30c-e7c31dac9d13 button');\n",
              "      quickchartButtonEl.style.display =\n",
              "        google.colab.kernel.accessAllowed ? 'block' : 'none';\n",
              "    })();\n",
              "  </script>\n",
              "</div>\n",
              "\n",
              "  <div id=\"id_f2047b49-5462-4d3f-b9d3-5bc94b0bfc8f\">\n",
              "    <style>\n",
              "      .colab-df-generate {\n",
              "        background-color: #E8F0FE;\n",
              "        border: none;\n",
              "        border-radius: 50%;\n",
              "        cursor: pointer;\n",
              "        display: none;\n",
              "        fill: #1967D2;\n",
              "        height: 32px;\n",
              "        padding: 0 0 0 0;\n",
              "        width: 32px;\n",
              "      }\n",
              "\n",
              "      .colab-df-generate:hover {\n",
              "        background-color: #E2EBFA;\n",
              "        box-shadow: 0px 1px 2px rgba(60, 64, 67, 0.3), 0px 1px 3px 1px rgba(60, 64, 67, 0.15);\n",
              "        fill: #174EA6;\n",
              "      }\n",
              "\n",
              "      [theme=dark] .colab-df-generate {\n",
              "        background-color: #3B4455;\n",
              "        fill: #D2E3FC;\n",
              "      }\n",
              "\n",
              "      [theme=dark] .colab-df-generate:hover {\n",
              "        background-color: #434B5C;\n",
              "        box-shadow: 0px 1px 3px 1px rgba(0, 0, 0, 0.15);\n",
              "        filter: drop-shadow(0px 1px 2px rgba(0, 0, 0, 0.3));\n",
              "        fill: #FFFFFF;\n",
              "      }\n",
              "    </style>\n",
              "    <button class=\"colab-df-generate\" onclick=\"generateWithVariable('df')\"\n",
              "            title=\"Generate code using this dataframe.\"\n",
              "            style=\"display:none;\">\n",
              "\n",
              "  <svg xmlns=\"http://www.w3.org/2000/svg\" height=\"24px\"viewBox=\"0 0 24 24\"\n",
              "       width=\"24px\">\n",
              "    <path d=\"M7,19H8.4L18.45,9,17,7.55,7,17.6ZM5,21V16.75L18.45,3.32a2,2,0,0,1,2.83,0l1.4,1.43a1.91,1.91,0,0,1,.58,1.4,1.91,1.91,0,0,1-.58,1.4L9.25,21ZM18.45,9,17,7.55Zm-12,3A5.31,5.31,0,0,0,4.9,8.1,5.31,5.31,0,0,0,1,6.5,5.31,5.31,0,0,0,4.9,4.9,5.31,5.31,0,0,0,6.5,1,5.31,5.31,0,0,0,8.1,4.9,5.31,5.31,0,0,0,12,6.5,5.46,5.46,0,0,0,6.5,12Z\"/>\n",
              "  </svg>\n",
              "    </button>\n",
              "    <script>\n",
              "      (() => {\n",
              "      const buttonEl =\n",
              "        document.querySelector('#id_f2047b49-5462-4d3f-b9d3-5bc94b0bfc8f button.colab-df-generate');\n",
              "      buttonEl.style.display =\n",
              "        google.colab.kernel.accessAllowed ? 'block' : 'none';\n",
              "\n",
              "      buttonEl.onclick = () => {\n",
              "        google.colab.notebook.generateWithVariable('df');\n",
              "      }\n",
              "      })();\n",
              "    </script>\n",
              "  </div>\n",
              "\n",
              "    </div>\n",
              "  </div>\n"
            ]
          },
          "metadata": {},
          "execution_count": 7
        }
      ]
    },
    {
      "cell_type": "code",
      "source": [
        "df.to_csv('EmoticonUkraineRussia.csv')"
      ],
      "metadata": {
        "id": "RJ6hZM3aByJD"
      },
      "execution_count": null,
      "outputs": []
    },
    {
      "cell_type": "code",
      "source": [
        "unique_count = df['HuggingFaceEmoticon'].nunique()\n",
        "print(\"Number of unique values:\", unique_count)"
      ],
      "metadata": {
        "colab": {
          "base_uri": "https://localhost:8080/"
        },
        "id": "e0C92gs3R764",
        "outputId": "943ede17-67e6-43ab-94c5-db4f6a5ac5c9"
      },
      "execution_count": null,
      "outputs": [
        {
          "output_type": "stream",
          "name": "stdout",
          "text": [
            "Number of unique values: 27\n"
          ]
        }
      ]
    },
    {
      "cell_type": "code",
      "source": [
        "category_counts = df['HuggingFaceEmoticon'].value_counts()"
      ],
      "metadata": {
        "id": "kCZGtN4ZSL98"
      },
      "execution_count": null,
      "outputs": []
    },
    {
      "cell_type": "code",
      "source": [
        "category_counts"
      ],
      "metadata": {
        "colab": {
          "base_uri": "https://localhost:8080/"
        },
        "id": "vnVZnb5FSXsD",
        "outputId": "69174d72-931d-4a34-b6b2-6c8527e2c3bf"
      },
      "execution_count": null,
      "outputs": [
        {
          "output_type": "execute_result",
          "data": {
            "text/plain": [
              "neutral           146773\n",
              "approval           11722\n",
              "caring             11400\n",
              "gratitude          10551\n",
              "admiration         10225\n",
              "sadness             9399\n",
              "love                7758\n",
              "optimism            6418\n",
              "curiosity           4272\n",
              "amusement           3818\n",
              "disapproval         3291\n",
              "annoyance           3243\n",
              "disappointment      3016\n",
              "anger               2467\n",
              "joy                 2145\n",
              "fear                2131\n",
              "desire              2123\n",
              "excitement          1357\n",
              "surprise            1338\n",
              "confusion           1194\n",
              "disgust              804\n",
              "remorse              669\n",
              "realization          623\n",
              "embarrassment        518\n",
              "nervousness          135\n",
              "pride                 98\n",
              "relief                 3\n",
              "Name: HuggingFaceEmoticon, dtype: int64"
            ]
          },
          "metadata": {},
          "execution_count": 11
        }
      ]
    },
    {
      "cell_type": "code",
      "source": [
        "import seaborn as sns\n",
        "from wordcloud import WordCloud\n",
        "import matplotlib.pyplot as plt\n"
      ],
      "metadata": {
        "id": "_lloCgSdS3kq"
      },
      "execution_count": null,
      "outputs": []
    },
    {
      "cell_type": "code",
      "source": [
        "data_neg = df['HuggingFaceEmoticon'][:800000]\n",
        "plt.figure(figsize = (20,20))\n",
        "wc = WordCloud(max_words = 1000 , width = 1600 , height = 800,\n",
        "               collocations=False).generate(\" \".join(data_neg))\n",
        "plt.imshow(wc)"
      ],
      "metadata": {
        "colab": {
          "base_uri": "https://localhost:8080/",
          "height": 534
        },
        "id": "hXz0W_qlSZHx",
        "outputId": "b48823e2-1cdd-43b3-d2b1-9205b300098b"
      },
      "execution_count": null,
      "outputs": [
        {
          "output_type": "execute_result",
          "data": {
            "text/plain": [
              "<matplotlib.image.AxesImage at 0x7d687580e5c0>"
            ]
          },
          "metadata": {},
          "execution_count": 12
        },
        {
          "output_type": "display_data",
          "data": {
            "text/plain": [
              "<Figure size 2000x2000 with 1 Axes>"
            ],
            "image/png": "[encoded data removed]"
          },
          "metadata": {}
        }
      ]
    },
    {
      "cell_type": "code",
      "source": [
        "from sklearn.feature_extraction.text import CountVectorizer\n",
        "from sklearn.naive_bayes import MultinomialNB\n",
        "from sklearn.model_selection import train_test_split\n",
        "from sklearn.metrics import accuracy_score"
      ],
      "metadata": {
        "id": "RMVfay_M-bmn"
      },
      "execution_count": null,
      "outputs": []
    },
    {
      "cell_type": "code",
      "source": [
        "# sklearn\n",
        "from sklearn.svm import LinearSVC\n",
        "from sklearn.naive_bayes import BernoulliNB\n",
        "from sklearn.linear_model import LogisticRegression\n",
        "from sklearn.model_selection import train_test_split\n",
        "from sklearn.feature_extraction.text import TfidfVectorizer\n",
        "from sklearn.metrics import confusion_matrix, classification_report"
      ],
      "metadata": {
        "id": "e0K1MylHSwwS"
      },
      "execution_count": null,
      "outputs": []
    },
    {
      "cell_type": "code",
      "source": [
        "X=df.LemmatizeText\n",
        "y=df.HuggingFaceEmoticon"
      ],
      "metadata": {
        "id": "ntOHlkBATiye"
      },
      "execution_count": null,
      "outputs": []
    },
    {
      "cell_type": "code",
      "source": [
        "# Separating the 95% data for training data and 5% for testing data\n",
        "X_train, X_test, y_train, y_test = train_test_split(X,y,test_size = 0.30, random_state =0)"
      ],
      "metadata": {
        "id": "Cv9_qrAJT_o4"
      },
      "execution_count": null,
      "outputs": []
    },
    {
      "cell_type": "code",
      "source": [
        "vectorizer = CountVectorizer()"
      ],
      "metadata": {
        "id": "f1mCKAtN0lNu"
      },
      "execution_count": null,
      "outputs": []
    },
    {
      "cell_type": "code",
      "source": [
        "# vectorizer.fit(X_train)"
      ],
      "metadata": {
        "colab": {
          "base_uri": "https://localhost:8080/",
          "height": 74
        },
        "id": "VTWKqurF1HZX",
        "outputId": "4df430e6-783c-46e4-9d16-ae309186081b"
      },
      "execution_count": null,
      "outputs": [
        {
          "output_type": "execute_result",
          "data": {
            "text/plain": [
              "CountVectorizer()"
            ],
            "text/html": [
              "<style>#sk-container-id-1 {color: black;background-color: white;}#sk-container-id-1 pre{padding: 0;}#sk-container-id-1 div.sk-toggleable {background-color: white;}#sk-container-id-1 label.sk-toggleable__label {cursor: pointer;display: block;width: 100%;margin-bottom: 0;padding: 0.3em;box-sizing: border-box;text-align: center;}#sk-container-id-1 label.sk-toggleable__label-arrow:before {content: \"▸\";float: left;margin-right: 0.25em;color: #696969;}#sk-container-id-1 label.sk-toggleable__label-arrow:hover:before {color: black;}#sk-container-id-1 div.sk-estimator:hover label.sk-toggleable__label-arrow:before {color: black;}#sk-container-id-1 div.sk-toggleable__content {max-height: 0;max-width: 0;overflow: hidden;text-align: left;background-color: #f0f8ff;}#sk-container-id-1 div.sk-toggleable__content pre {margin: 0.2em;color: black;border-radius: 0.25em;background-color: #f0f8ff;}#sk-container-id-1 input.sk-toggleable__control:checked~div.sk-toggleable__content {max-height: 200px;max-width: 100%;overflow: auto;}#sk-container-id-1 input.sk-toggleable__control:checked~label.sk-toggleable__label-arrow:before {content: \"▾\";}#sk-container-id-1 div.sk-estimator input.sk-toggleable__control:checked~label.sk-toggleable__label {background-color: #d4ebff;}#sk-container-id-1 div.sk-label input.sk-toggleable__control:checked~label.sk-toggleable__label {background-color: #d4ebff;}#sk-container-id-1 input.sk-hidden--visually {border: 0;clip: rect(1px 1px 1px 1px);clip: rect(1px, 1px, 1px, 1px);height: 1px;margin: -1px;overflow: hidden;padding: 0;position: absolute;width: 1px;}#sk-container-id-1 div.sk-estimator {font-family: monospace;background-color: #f0f8ff;border: 1px dotted black;border-radius: 0.25em;box-sizing: border-box;margin-bottom: 0.5em;}#sk-container-id-1 div.sk-estimator:hover {background-color: #d4ebff;}#sk-container-id-1 div.sk-parallel-item::after {content: \"\";width: 100%;border-bottom: 1px solid gray;flex-grow: 1;}#sk-container-id-1 div.sk-label:hover label.sk-toggleable__label {background-color: #d4ebff;}#sk-container-id-1 div.sk-serial::before {content: \"\";position: absolute;border-left: 1px solid gray;box-sizing: border-box;top: 0;bottom: 0;left: 50%;z-index: 0;}#sk-container-id-1 div.sk-serial {display: flex;flex-direction: column;align-items: center;background-color: white;padding-right: 0.2em;padding-left: 0.2em;position: relative;}#sk-container-id-1 div.sk-item {position: relative;z-index: 1;}#sk-container-id-1 div.sk-parallel {display: flex;align-items: stretch;justify-content: center;background-color: white;position: relative;}#sk-container-id-1 div.sk-item::before, #sk-container-id-1 div.sk-parallel-item::before {content: \"\";position: absolute;border-left: 1px solid gray;box-sizing: border-box;top: 0;bottom: 0;left: 50%;z-index: -1;}#sk-container-id-1 div.sk-parallel-item {display: flex;flex-direction: column;z-index: 1;position: relative;background-color: white;}#sk-container-id-1 div.sk-parallel-item:first-child::after {align-self: flex-end;width: 50%;}#sk-container-id-1 div.sk-parallel-item:last-child::after {align-self: flex-start;width: 50%;}#sk-container-id-1 div.sk-parallel-item:only-child::after {width: 0;}#sk-container-id-1 div.sk-dashed-wrapped {border: 1px dashed gray;margin: 0 0.4em 0.5em 0.4em;box-sizing: border-box;padding-bottom: 0.4em;background-color: white;}#sk-container-id-1 div.sk-label label {font-family: monospace;font-weight: bold;display: inline-block;line-height: 1.2em;}#sk-container-id-1 div.sk-label-container {text-align: center;}#sk-container-id-1 div.sk-container {/* jupyter's `normalize.less` sets `[hidden] { display: none; }` but bootstrap.min.css set `[hidden] { display: none !important; }` so we also need the `!important` here to be able to override the default hidden behavior on the sphinx rendered scikit-learn.org. See: https://github.com/scikit-learn/scikit-learn/issues/21755 */display: inline-block !important;position: relative;}#sk-container-id-1 div.sk-text-repr-fallback {display: none;}</style><div id=\"sk-container-id-1\" class=\"sk-top-container\"><div class=\"sk-text-repr-fallback\"><pre>CountVectorizer()</pre><b>In a Jupyter environment, please rerun this cell to show the HTML representation or trust the notebook. <br />On GitHub, the HTML representation is unable to render, please try loading this page with nbviewer.org.</b></div><div class=\"sk-container\" hidden><div class=\"sk-item\"><div class=\"sk-estimator sk-toggleable\"><input class=\"sk-toggleable__control sk-hidden--visually\" id=\"sk-estimator-id-1\" type=\"checkbox\" checked><label for=\"sk-estimator-id-1\" class=\"sk-toggleable__label sk-toggleable__label-arrow\">CountVectorizer</label><div class=\"sk-toggleable__content\"><pre>CountVectorizer()</pre></div></div></div></div></div>"
            ]
          },
          "metadata": {},
          "execution_count": 19
        }
      ]
    },
    {
      "cell_type": "code",
      "source": [
        "# X_train = vectorizer.transform(X_train)\n",
        "# X_test  = vectorizer.transform(X_test)"
      ],
      "metadata": {
        "id": "PzHUD2oq043A"
      },
      "execution_count": null,
      "outputs": []
    },
    {
      "cell_type": "code",
      "source": [
        "# # vectoriser = TfidfVectorizer(ngram_range=(5,5), max_features=500000)\n",
        "# vectoriser = TfidfVectorizer(stop_words='english')\n",
        "# # vectoriser.fit(X_train)\n",
        "# # print('No. of feature_words: ', len(vectoriser.get_feature_names_out()))"
      ],
      "metadata": {
        "id": "hGU8uGbDUJKf"
      },
      "execution_count": null,
      "outputs": []
    },
    {
      "cell_type": "code",
      "source": [
        "from sklearn.feature_extraction.text import TfidfVectorizer\n",
        "\n",
        "vectoriser = TfidfVectorizer(stop_words='english',max_features=4000)"
      ],
      "metadata": {
        "id": "QQKqdwjKVOSs"
      },
      "execution_count": null,
      "outputs": []
    },
    {
      "cell_type": "code",
      "source": [
        "X_train = vectoriser.fit_transform(X_train)\n",
        "X_test  = vectoriser.transform(X_test)"
      ],
      "metadata": {
        "id": "sQ6mRBuaUMIe"
      },
      "execution_count": null,
      "outputs": []
    },
    {
      "cell_type": "code",
      "source": [
        "X_train"
      ],
      "metadata": {
        "colab": {
          "base_uri": "https://localhost:8080/"
        },
        "id": "w10X3wUzUThr",
        "outputId": "8c60e8c1-cbf6-403a-a06a-ff2e69b8280e"
      },
      "execution_count": null,
      "outputs": [
        {
          "output_type": "execute_result",
          "data": {
            "text/plain": [
              "<173243x4000 sparse matrix of type '<class 'numpy.float64'>'\n",
              "\twith 1610803 stored elements in Compressed Sparse Row format>"
            ]
          },
          "metadata": {},
          "execution_count": 20
        }
      ]
    },
    {
      "cell_type": "code",
      "source": [
        "X_test"
      ],
      "metadata": {
        "colab": {
          "base_uri": "https://localhost:8080/"
        },
        "id": "vf91d8g8UVma",
        "outputId": "0d7cc5d7-de5f-4c66-b629-b165b55b4027"
      },
      "execution_count": null,
      "outputs": [
        {
          "output_type": "execute_result",
          "data": {
            "text/plain": [
              "<74248x4000 sparse matrix of type '<class 'numpy.float64'>'\n",
              "\twith 691882 stored elements in Compressed Sparse Row format>"
            ]
          },
          "metadata": {},
          "execution_count": 21
        }
      ]
    },
    {
      "cell_type": "code",
      "source": [
        "from sklearn.model_selection import cross_val_score"
      ],
      "metadata": {
        "id": "oRFoDKvzCxn6"
      },
      "execution_count": null,
      "outputs": []
    },
    {
      "cell_type": "code",
      "source": [
        "from sklearn.metrics import make_scorer, accuracy_score"
      ],
      "metadata": {
        "id": "2fHMH-Q9DPIg"
      },
      "execution_count": null,
      "outputs": []
    },
    {
      "cell_type": "code",
      "source": [
        "BNBmodel = MultinomialNB(alpha=0.0)\n",
        "BNBmodel.fit(X_train, y_train)\n",
        "y_pred1 = BNBmodel.predict(X_test)"
      ],
      "metadata": {
        "colab": {
          "base_uri": "https://localhost:8080/"
        },
        "id": "xOlxA-44-h9I",
        "outputId": "bada6cb4-f2ef-4904-e937-e70914b7bc02"
      },
      "execution_count": null,
      "outputs": [
        {
          "output_type": "stream",
          "name": "stderr",
          "text": [
            "/usr/local/lib/python3.10/dist-packages/sklearn/naive_bayes.py:629: FutureWarning: The default value for `force_alpha` will change to `True` in 1.4. To suppress this warning, manually set the value of `force_alpha`.\n",
            "  warnings.warn(\n",
            "/usr/local/lib/python3.10/dist-packages/sklearn/naive_bayes.py:635: UserWarning: alpha too small will result in numeric errors, setting alpha = 1.0e-10. Use `force_alpha=True` to keep alpha unchanged.\n",
            "  warnings.warn(\n"
          ]
        }
      ]
    },
    {
      "cell_type": "code",
      "source": [
        "from sklearn.metrics import matthews_corrcoef"
      ],
      "metadata": {
        "id": "uRXS6Pn8T07R"
      },
      "execution_count": null,
      "outputs": []
    },
    {
      "cell_type": "code",
      "source": [
        "mcc = matthews_corrcoef(y_test, y_pred1)\n",
        "\n",
        "# Print the MCC value\n",
        "print(f\"Matthews Correlation Coefficient: {mcc}\")"
      ],
      "metadata": {
        "colab": {
          "base_uri": "https://localhost:8080/"
        },
        "id": "BSRm1PJsUC95",
        "outputId": "1a336150-d773-4fd5-9f70-5097e3ce64e8"
      },
      "execution_count": null,
      "outputs": [
        {
          "output_type": "stream",
          "name": "stdout",
          "text": [
            "Matthews Correlation Coefficient: 0.3471604274828076\n"
          ]
        }
      ]
    },
    {
      "cell_type": "code",
      "source": [
        "from sklearn.metrics import fowlkes_mallows_score"
      ],
      "metadata": {
        "id": "yonvAuboUTQL"
      },
      "execution_count": null,
      "outputs": []
    },
    {
      "cell_type": "code",
      "source": [
        "fmi = fowlkes_mallows_score(y_test, y_pred1)"
      ],
      "metadata": {
        "id": "fDqg9tp0VKmu"
      },
      "execution_count": null,
      "outputs": []
    },
    {
      "cell_type": "code",
      "source": [
        "print(f\"Fowlkes-Mallows Index: {fmi}\")"
      ],
      "metadata": {
        "colab": {
          "base_uri": "https://localhost:8080/"
        },
        "id": "j4WYdbURVSfa",
        "outputId": "f504370d-0dc9-47ca-b579-d87ebb65ff9d"
      },
      "execution_count": null,
      "outputs": [
        {
          "output_type": "stream",
          "name": "stdout",
          "text": [
            "Fowlkes-Mallows Index: 0.6496082751184008\n"
          ]
        }
      ]
    },
    {
      "cell_type": "code",
      "source": [
        "from sklearn.metrics import cohen_kappa_score"
      ],
      "metadata": {
        "id": "3ncnhbnUVT-L"
      },
      "execution_count": null,
      "outputs": []
    },
    {
      "cell_type": "code",
      "source": [
        "kappa = cohen_kappa_score(y_test, y_pred1)\n",
        "\n",
        "# Print the Cohen's Kappa value\n",
        "print(f\"Cohen's Kappa: {kappa}\")"
      ],
      "metadata": {
        "colab": {
          "base_uri": "https://localhost:8080/"
        },
        "id": "JAMj56GXVf0d",
        "outputId": "1c920ee8-b52b-42a3-e44b-a2dc6a64de78"
      },
      "execution_count": null,
      "outputs": [
        {
          "output_type": "stream",
          "name": "stdout",
          "text": [
            "Cohen's Kappa: 0.30024224926499643\n"
          ]
        }
      ]
    },
    {
      "cell_type": "code",
      "source": [
        "from sklearn.metrics import confusion_matrix"
      ],
      "metadata": {
        "id": "VSTTDqZAV85R"
      },
      "execution_count": null,
      "outputs": []
    },
    {
      "cell_type": "code",
      "source": [
        "conf_matrix = confusion_matrix(y_test, y_pred1)"
      ],
      "metadata": {
        "id": "SDcIpLcBV9ul"
      },
      "execution_count": null,
      "outputs": []
    },
    {
      "cell_type": "code",
      "source": [
        "cv_accuracy = cross_val_score(BNBmodel, X_train, y_train, cv=5, scoring=make_scorer(accuracy_score))"
      ],
      "metadata": {
        "colab": {
          "base_uri": "https://localhost:8080/"
        },
        "id": "T57XugpnC4J2",
        "outputId": "9d4de926-b13c-4eec-f1a7-b48c0fed68b4"
      },
      "execution_count": null,
      "outputs": [
        {
          "output_type": "stream",
          "name": "stderr",
          "text": [
            "/usr/local/lib/python3.10/dist-packages/sklearn/model_selection/_split.py:700: UserWarning: The least populated class in y has only 2 members, which is less than n_splits=5.\n",
            "  warnings.warn(\n",
            "/usr/local/lib/python3.10/dist-packages/sklearn/naive_bayes.py:629: FutureWarning: The default value for `force_alpha` will change to `True` in 1.4. To suppress this warning, manually set the value of `force_alpha`.\n",
            "  warnings.warn(\n",
            "/usr/local/lib/python3.10/dist-packages/sklearn/naive_bayes.py:635: UserWarning: alpha too small will result in numeric errors, setting alpha = 1.0e-10. Use `force_alpha=True` to keep alpha unchanged.\n",
            "  warnings.warn(\n",
            "/usr/local/lib/python3.10/dist-packages/sklearn/naive_bayes.py:629: FutureWarning: The default value for `force_alpha` will change to `True` in 1.4. To suppress this warning, manually set the value of `force_alpha`.\n",
            "  warnings.warn(\n",
            "/usr/local/lib/python3.10/dist-packages/sklearn/naive_bayes.py:635: UserWarning: alpha too small will result in numeric errors, setting alpha = 1.0e-10. Use `force_alpha=True` to keep alpha unchanged.\n",
            "  warnings.warn(\n",
            "/usr/local/lib/python3.10/dist-packages/sklearn/naive_bayes.py:629: FutureWarning: The default value for `force_alpha` will change to `True` in 1.4. To suppress this warning, manually set the value of `force_alpha`.\n",
            "  warnings.warn(\n",
            "/usr/local/lib/python3.10/dist-packages/sklearn/naive_bayes.py:635: UserWarning: alpha too small will result in numeric errors, setting alpha = 1.0e-10. Use `force_alpha=True` to keep alpha unchanged.\n",
            "  warnings.warn(\n",
            "/usr/local/lib/python3.10/dist-packages/sklearn/naive_bayes.py:629: FutureWarning: The default value for `force_alpha` will change to `True` in 1.4. To suppress this warning, manually set the value of `force_alpha`.\n",
            "  warnings.warn(\n",
            "/usr/local/lib/python3.10/dist-packages/sklearn/naive_bayes.py:635: UserWarning: alpha too small will result in numeric errors, setting alpha = 1.0e-10. Use `force_alpha=True` to keep alpha unchanged.\n",
            "  warnings.warn(\n",
            "/usr/local/lib/python3.10/dist-packages/sklearn/naive_bayes.py:629: FutureWarning: The default value for `force_alpha` will change to `True` in 1.4. To suppress this warning, manually set the value of `force_alpha`.\n",
            "  warnings.warn(\n",
            "/usr/local/lib/python3.10/dist-packages/sklearn/naive_bayes.py:635: UserWarning: alpha too small will result in numeric errors, setting alpha = 1.0e-10. Use `force_alpha=True` to keep alpha unchanged.\n",
            "  warnings.warn(\n"
          ]
        }
      ]
    },
    {
      "cell_type": "code",
      "source": [
        "print(\"Cross-Validation Accuracy Scores:\")\n",
        "print(cv_accuracy)"
      ],
      "metadata": {
        "colab": {
          "base_uri": "https://localhost:8080/"
        },
        "id": "gLf6VKLoDUyX",
        "outputId": "d289ff44-bd05-4ad2-fa4f-1eaefb7008b9"
      },
      "execution_count": null,
      "outputs": [
        {
          "output_type": "stream",
          "name": "stdout",
          "text": [
            "Cross-Validation Accuracy Scores:\n",
            "[0.64229848 0.6431643  0.6438281  0.63879589 0.64246133]\n"
          ]
        }
      ]
    },
    {
      "cell_type": "code",
      "source": [
        "import numpy as np\n",
        "from tensorflow.keras.models import Model\n",
        "from tensorflow.keras.layers import Input, Embedding, LSTM, Conv1D, MaxPooling1D, Flatten, concatenate, Dense\n",
        "import numpy as np\n",
        "from sklearn.model_selection import train_test_split\n",
        "from sklearn.preprocessing import LabelEncoder\n",
        "from tensorflow.keras.models import Model\n",
        "from tensorflow.keras.layers import Input, Embedding, LSTM, Conv1D, MaxPooling1D, Flatten, concatenate, Dense\n",
        "from tensorflow.keras.preprocessing.text import Tokenizer\n",
        "from tensorflow.keras.preprocessing.sequence import pad_sequences\n",
        "from tensorflow.keras.layers import Bidirectional\n",
        "from tensorflow.keras.utils import to_categorical"
      ],
      "metadata": {
        "id": "K2rcafqgZrgY"
      },
      "execution_count": null,
      "outputs": []
    },
    {
      "cell_type": "code",
      "source": [
        "import numpy as np\n",
        "from sklearn.model_selection import train_test_split\n",
        "from sklearn.preprocessing import LabelEncoder\n",
        "from tensorflow.keras.models import Model\n",
        "from tensorflow.keras.layers import Input, Embedding, LSTM, Conv1D, MaxPooling1D, Flatten, concatenate, Dense\n",
        "from tensorflow.keras.preprocessing.text import Tokenizer\n",
        "from tensorflow.keras.preprocessing.sequence import pad_sequences\n",
        "from tensorflow.keras.layers import Bidirectional\n",
        "from tensorflow.keras.utils import to_categorical\n",
        "\n",
        "# Assuming you have your text data and corresponding labels in X_train_text, X_test_text, y_train, and y_test\n",
        "\n",
        "# Separating the 95% data for training data and 5% for testing data\n",
        "X_train_text, X_test_text, y_train, y_test = train_test_split(X, y, test_size=0.05, random_state=0)\n",
        "\n",
        "# Tokenize and pad your text data\n",
        "max_sequence_length = 100  # adjust based on your data\n",
        "vocab_size = 10000  # adjust based on your data\n",
        "\n",
        "tokenizer = Tokenizer(num_words=vocab_size)\n",
        "tokenizer.fit_on_texts(X_train_text)\n",
        "\n",
        "X_train_seq = tokenizer.texts_to_sequences(X_train_text)\n",
        "X_test_seq = tokenizer.texts_to_sequences(X_test_text)\n",
        "\n",
        "X_train_padded = pad_sequences(X_train_seq, maxlen=max_sequence_length)\n",
        "X_test_padded = pad_sequences(X_test_seq, maxlen=max_sequence_length)\n",
        "\n",
        "# Label encoding\n",
        "label_encoder = LabelEncoder()\n",
        "y_train_encoded = label_encoder.fit_transform(y_train)\n",
        "y_test_encoded = label_encoder.transform(y_test)\n",
        "\n",
        "# One-hot encoding\n",
        "num_classes = len(np.unique(y_train_encoded))\n",
        "y_train_one_hot = to_categorical(y_train_encoded, num_classes=num_classes)\n",
        "y_test_one_hot = to_categorical(y_test_encoded, num_classes=num_classes)\n",
        "\n",
        "# Model 1: Bidirectional LSTM\n",
        "input_lstm = Input(shape=(max_sequence_length,))\n",
        "embedding_lstm = Embedding(input_dim=vocab_size, output_dim=100)(input_lstm)\n",
        "lstm_out = Bidirectional(LSTM(64))(embedding_lstm)\n",
        "\n",
        "# Model 2: Convolutional Neural Network (CNN)\n",
        "input_cnn = Input(shape=(max_sequence_length,))\n",
        "embedding_cnn = Embedding(input_dim=vocab_size, output_dim=100)(input_cnn)\n",
        "conv1d_out = Conv1D(64, 3, activation='relu')(embedding_cnn)\n",
        "pooling_out = MaxPooling1D(pool_size=4)(conv1d_out)\n",
        "flatten_cnn = Flatten()(pooling_out)\n",
        "\n",
        "# Merge models\n",
        "merged = concatenate([lstm_out, flatten_cnn])\n",
        "\n",
        "# Common Dense layers\n",
        "dense1 = Dense(64, activation='relu')(merged)\n",
        "output = Dense(num_classes, activation='softmax')(dense1)\n",
        "\n",
        "# Create the ensemble model\n",
        "ensemble_model = Model(inputs=[input_lstm, input_cnn], outputs=output)\n",
        "\n",
        "# Compile the model\n",
        "ensemble_model.compile(optimizer='adam', loss='categorical_crossentropy', metrics=['accuracy'])\n",
        "\n",
        "# Train the model\n",
        "ensemble_model.fit([X_train_padded, X_train_padded], y_train_one_hot, epochs=2, batch_size=100, validation_data=([X_test_padded, X_test_padded], y_test_one_hot))\n"
      ],
      "metadata": {
        "colab": {
          "base_uri": "https://localhost:8080/"
        },
        "id": "pNZMaUo_Y7WH",
        "outputId": "c97b7d93-2eb4-4a0c-c7dc-3a5d8f66625b"
      },
      "execution_count": null,
      "outputs": [
        {
          "output_type": "stream",
          "name": "stdout",
          "text": [
            "Epoch 1/2\n",
            "2352/2352 [==============================] - 891s 377ms/step - loss: 1.1597 - accuracy: 0.7004 - val_loss: 0.9209 - val_accuracy: 0.7456\n",
            "Epoch 2/2\n",
            "2352/2352 [==============================] - 871s 370ms/step - loss: 0.7925 - accuracy: 0.7723 - val_loss: 0.8251 - val_accuracy: 0.7665\n"
          ]
        },
        {
          "output_type": "execute_result",
          "data": {
            "text/plain": [
              "<keras.src.callbacks.History at 0x7e0aecaea170>"
            ]
          },
          "metadata": {},
          "execution_count": 23
        }
      ]
    },
    {
      "cell_type": "code",
      "source": [
        "ensemble_model.fit([X_train_padded, X_train_padded], y_train_one_hot, epochs=2, batch_size=32, validation_data=([X_test_padded, X_test_padded], y_test_one_hot))"
      ],
      "metadata": {
        "colab": {
          "base_uri": "https://localhost:8080/"
        },
        "id": "VGcMKj1xjez2",
        "outputId": "25ed48ec-cf47-42cd-bbf3-f96b1590cc9c"
      },
      "execution_count": null,
      "outputs": [
        {
          "output_type": "stream",
          "name": "stdout",
          "text": [
            "Epoch 1/2\n",
            "7348/7348 [==============================] - 621s 84ms/step - loss: 0.6956 - accuracy: 0.7931 - val_loss: 0.8300 - val_accuracy: 0.7706\n",
            "Epoch 2/2\n",
            "7348/7348 [==============================] - 613s 83ms/step - loss: 0.5388 - accuracy: 0.8351 - val_loss: 0.8911 - val_accuracy: 0.7577\n"
          ]
        },
        {
          "output_type": "execute_result",
          "data": {
            "text/plain": [
              "<keras.src.callbacks.History at 0x7871f97758a0>"
            ]
          },
          "metadata": {},
          "execution_count": 18
        }
      ]
    },
    {
      "cell_type": "code",
      "source": [
        "ensemble_model.save('Emoji')"
      ],
      "metadata": {
        "id": "YJah9TyYZTmz"
      },
      "execution_count": null,
      "outputs": []
    },
    {
      "cell_type": "code",
      "source": [
        "!zip -r /content/Emoji.zip /content/Emoji"
      ],
      "metadata": {
        "colab": {
          "base_uri": "https://localhost:8080/"
        },
        "id": "k1BFIdXbeuJz",
        "outputId": "cb575649-270d-4f0b-c475-e8d2599828f1"
      },
      "execution_count": null,
      "outputs": [
        {
          "output_type": "stream",
          "name": "stdout",
          "text": [
            "  adding: content/Emoji/ (stored 0%)\n",
            "  adding: content/Emoji/fingerprint.pb (stored 0%)\n",
            "  adding: content/Emoji/keras_metadata.pb (deflated 91%)\n",
            "  adding: content/Emoji/saved_model.pb (deflated 91%)\n",
            "  adding: content/Emoji/variables/ (stored 0%)\n",
            "  adding: content/Emoji/variables/variables.index (deflated 65%)\n",
            "  adding: content/Emoji/variables/variables.data-00000-of-00001 (deflated 8%)\n",
            "  adding: content/Emoji/assets/ (stored 0%)\n"
          ]
        }
      ]
    },
    {
      "cell_type": "code",
      "source": [
        "import joblib\n",
        "import pickle"
      ],
      "metadata": {
        "id": "DjWn9_CTJDY_"
      },
      "execution_count": null,
      "outputs": []
    },
    {
      "cell_type": "code",
      "source": [
        "ensemble_model = pickle.load(open('LSTMCNN.pkl','rb'))"
      ],
      "metadata": {
        "id": "IvnBgILzNKul"
      },
      "execution_count": null,
      "outputs": []
    },
    {
      "cell_type": "code",
      "source": [
        "model.save('ensemble_model')"
      ],
      "metadata": {
        "colab": {
          "base_uri": "https://localhost:8080/",
          "height": 175
        },
        "id": "wHEvNK_DOlgo",
        "outputId": "429d1ea4-378f-4e83-a8fc-54b93217e877"
      },
      "execution_count": null,
      "outputs": [
        {
          "output_type": "error",
          "ename": "NameError",
          "evalue": "ignored",
          "traceback": [
            "\u001b[0;31m---------------------------------------------------------------------------\u001b[0m",
            "\u001b[0;31mNameError\u001b[0m                                 Traceback (most recent call last)",
            "\u001b[0;32m<ipython-input-24-355ba8345742>\u001b[0m in \u001b[0;36m<cell line: 1>\u001b[0;34m()\u001b[0m\n\u001b[0;32m----> 1\u001b[0;31m \u001b[0mmodel\u001b[0m\u001b[0;34m.\u001b[0m\u001b[0msave\u001b[0m\u001b[0;34m(\u001b[0m\u001b[0;34m'ensemble_model'\u001b[0m\u001b[0;34m)\u001b[0m\u001b[0;34m\u001b[0m\u001b[0;34m\u001b[0m\u001b[0m\n\u001b[0m",
            "\u001b[0;31mNameError\u001b[0m: name 'model' is not defined"
          ]
        }
      ]
    },
    {
      "cell_type": "code",
      "source": [
        "joblib.dump(ensemble_model,'LSTMCNN.pkl')"
      ],
      "metadata": {
        "colab": {
          "base_uri": "https://localhost:8080/"
        },
        "id": "rCjjLsS9JHmE",
        "outputId": "e046b8b9-4ea9-403b-d0fd-d4c0d9cb61e2"
      },
      "execution_count": null,
      "outputs": [
        {
          "output_type": "execute_result",
          "data": {
            "text/plain": [
              "['LSTMCNN.pkl']"
            ]
          },
          "metadata": {},
          "execution_count": 20
        }
      ]
    },
    {
      "cell_type": "code",
      "source": [
        "import nltk\n",
        "import numpy as np\n",
        "from sklearn.model_selection import train_test_split\n",
        "from sklearn.preprocessing import LabelEncoder\n",
        "from tensorflow.keras.models import Model\n",
        "from tensorflow.keras.layers import Input, Embedding, LSTM, Conv1D, MaxPooling1D, Flatten, concatenate, Dense\n",
        "from tensorflow.keras.preprocessing.text import Tokenizer\n",
        "from tensorflow.keras.preprocessing.sequence import pad_sequences\n",
        "from tensorflow.keras.layers import Bidirectional\n",
        "from tensorflow.keras.utils import to_categorical"
      ],
      "metadata": {
        "id": "wzcD4GqRNnf7"
      },
      "execution_count": null,
      "outputs": []
    },
    {
      "cell_type": "code",
      "source": [
        "# New text for prediction\n",
        "new_text = [\"i am sad 🥲\",\"i am happy 😊\"]\n",
        "\n",
        "# Tokenize and pad the new text\n",
        "tokenizer = Tokenizer(num_words=1000)\n",
        "max_sequence_length = 100\n",
        "new_text_seq = tokenizer.texts_to_sequences(new_text)\n",
        "new_text_padded = pad_sequences(new_text_seq, maxlen=max_sequence_length)\n",
        "label_encoder = LabelEncoder()\n",
        "# Make predictions using the trained ensemble model\n",
        "predictions = ensemble_model.predict([new_text_padded, new_text_padded])\n",
        "\n",
        "# Decode the predictions to get the corresponding labels\n",
        "predicted_labels = label_encoder.inverse_transform(np.argmax(predictions, axis=1))\n",
        "\n",
        "# Display the predicted labels\n",
        "print(\"Predicted Emoji Sentiment:\", predicted_labels[0])\n"
      ],
      "metadata": {
        "colab": {
          "base_uri": "https://localhost:8080/",
          "height": 407
        },
        "id": "V7AduKTNL36h",
        "outputId": "951eccc3-24b1-455f-9bf9-99221af4ddce"
      },
      "execution_count": null,
      "outputs": [
        {
          "output_type": "stream",
          "name": "stdout",
          "text": [
            "1/1 [==============================] - 0s 76ms/step\n"
          ]
        },
        {
          "output_type": "error",
          "ename": "NotFittedError",
          "evalue": "ignored",
          "traceback": [
            "\u001b[0;31m---------------------------------------------------------------------------\u001b[0m",
            "\u001b[0;31mNotFittedError\u001b[0m                            Traceback (most recent call last)",
            "\u001b[0;32m<ipython-input-22-dee2aa4a6efa>\u001b[0m in \u001b[0;36m<cell line: 14>\u001b[0;34m()\u001b[0m\n\u001b[1;32m     12\u001b[0m \u001b[0;34m\u001b[0m\u001b[0m\n\u001b[1;32m     13\u001b[0m \u001b[0;31m# Decode the predictions to get the corresponding labels\u001b[0m\u001b[0;34m\u001b[0m\u001b[0;34m\u001b[0m\u001b[0m\n\u001b[0;32m---> 14\u001b[0;31m \u001b[0mpredicted_labels\u001b[0m \u001b[0;34m=\u001b[0m \u001b[0mlabel_encoder\u001b[0m\u001b[0;34m.\u001b[0m\u001b[0minverse_transform\u001b[0m\u001b[0;34m(\u001b[0m\u001b[0mnp\u001b[0m\u001b[0;34m.\u001b[0m\u001b[0margmax\u001b[0m\u001b[0;34m(\u001b[0m\u001b[0mpredictions\u001b[0m\u001b[0;34m,\u001b[0m \u001b[0maxis\u001b[0m\u001b[0;34m=\u001b[0m\u001b[0;36m1\u001b[0m\u001b[0;34m)\u001b[0m\u001b[0;34m)\u001b[0m\u001b[0;34m\u001b[0m\u001b[0;34m\u001b[0m\u001b[0m\n\u001b[0m\u001b[1;32m     15\u001b[0m \u001b[0;34m\u001b[0m\u001b[0m\n\u001b[1;32m     16\u001b[0m \u001b[0;31m# Display the predicted labels\u001b[0m\u001b[0;34m\u001b[0m\u001b[0;34m\u001b[0m\u001b[0m\n",
            "\u001b[0;32m/usr/local/lib/python3.10/dist-packages/sklearn/preprocessing/_label.py\u001b[0m in \u001b[0;36minverse_transform\u001b[0;34m(self, y)\u001b[0m\n\u001b[1;32m    152\u001b[0m             \u001b[0mOriginal\u001b[0m \u001b[0mencoding\u001b[0m\u001b[0;34m.\u001b[0m\u001b[0;34m\u001b[0m\u001b[0;34m\u001b[0m\u001b[0m\n\u001b[1;32m    153\u001b[0m         \"\"\"\n\u001b[0;32m--> 154\u001b[0;31m         \u001b[0mcheck_is_fitted\u001b[0m\u001b[0;34m(\u001b[0m\u001b[0mself\u001b[0m\u001b[0;34m)\u001b[0m\u001b[0;34m\u001b[0m\u001b[0;34m\u001b[0m\u001b[0m\n\u001b[0m\u001b[1;32m    155\u001b[0m         \u001b[0my\u001b[0m \u001b[0;34m=\u001b[0m \u001b[0mcolumn_or_1d\u001b[0m\u001b[0;34m(\u001b[0m\u001b[0my\u001b[0m\u001b[0;34m,\u001b[0m \u001b[0mwarn\u001b[0m\u001b[0;34m=\u001b[0m\u001b[0;32mTrue\u001b[0m\u001b[0;34m)\u001b[0m\u001b[0;34m\u001b[0m\u001b[0;34m\u001b[0m\u001b[0m\n\u001b[1;32m    156\u001b[0m         \u001b[0;31m# inverse transform of empty array is empty array\u001b[0m\u001b[0;34m\u001b[0m\u001b[0;34m\u001b[0m\u001b[0m\n",
            "\u001b[0;32m/usr/local/lib/python3.10/dist-packages/sklearn/utils/validation.py\u001b[0m in \u001b[0;36mcheck_is_fitted\u001b[0;34m(estimator, attributes, msg, all_or_any)\u001b[0m\n\u001b[1;32m   1388\u001b[0m \u001b[0;34m\u001b[0m\u001b[0m\n\u001b[1;32m   1389\u001b[0m     \u001b[0;32mif\u001b[0m \u001b[0;32mnot\u001b[0m \u001b[0mfitted\u001b[0m\u001b[0;34m:\u001b[0m\u001b[0;34m\u001b[0m\u001b[0;34m\u001b[0m\u001b[0m\n\u001b[0;32m-> 1390\u001b[0;31m         \u001b[0;32mraise\u001b[0m \u001b[0mNotFittedError\u001b[0m\u001b[0;34m(\u001b[0m\u001b[0mmsg\u001b[0m \u001b[0;34m%\u001b[0m \u001b[0;34m{\u001b[0m\u001b[0;34m\"name\"\u001b[0m\u001b[0;34m:\u001b[0m \u001b[0mtype\u001b[0m\u001b[0;34m(\u001b[0m\u001b[0mestimator\u001b[0m\u001b[0;34m)\u001b[0m\u001b[0;34m.\u001b[0m\u001b[0m__name__\u001b[0m\u001b[0;34m}\u001b[0m\u001b[0;34m)\u001b[0m\u001b[0;34m\u001b[0m\u001b[0;34m\u001b[0m\u001b[0m\n\u001b[0m\u001b[1;32m   1391\u001b[0m \u001b[0;34m\u001b[0m\u001b[0m\n\u001b[1;32m   1392\u001b[0m \u001b[0;34m\u001b[0m\u001b[0m\n",
            "\u001b[0;31mNotFittedError\u001b[0m: This LabelEncoder instance is not fitted yet. Call 'fit' with appropriate arguments before using this estimator."
          ]
        }
      ]
    },
    {
      "cell_type": "code",
      "source": [
        "import pandas as pd\n",
        "import numpy as np\n",
        "from tensorflow.keras.models import load_model\n",
        "from sklearn.preprocessing import LabelEncoder\n",
        "from tensorflow.keras.preprocessing.text import Tokenizer\n",
        "from tensorflow.keras.preprocessing.sequence import pad_sequences\n",
        "\n",
        "def predict_emoji_sentiment(new_text):\n",
        "    # Load pre-trained model\n",
        "    ensemble_model = pickle.load(open('LSTMCNN.pkl','rb'))  # Update the file path accordingly\n",
        "\n",
        "    # Tokenize and pad the input text\n",
        "    max_sequence_length = 100  # adjust based on your data\n",
        "    vocab_size = 1000  # adjust based on your data\n",
        "    tokenizer = Tokenizer(num_words=vocab_size)\n",
        "    label_encoder = LabelEncoder()\n",
        "\n",
        "      # Tokenize and pad the new text\n",
        "    new_text_seq = tokenizer.texts_to_sequences(new_text)\n",
        "    new_text_padded = pad_sequences(new_text_seq, maxlen=max_sequence_length)\n",
        "\n",
        "    # Make predictions using the trained ensemble model\n",
        "    predictions = ensemble_model.predict([new_text_padded, new_text_padded])\n",
        "\n",
        "    # Decode the predictions to get the corresponding labels\n",
        "    predicted_labels = label_encoder.inverse_transform(np.argmax(predictions, axis=1))\n",
        "    return predicted_labels\n",
        "\n",
        "# Example usage:\n",
        "# Assuming you have a DataFrame df with a 'text' column\n",
        "df = pd.DataFrame({'text': [\"i am happy 😊\", \"😊😊😊\"]})\n",
        "predicted_labels = predict_emoji_sentiment(df['text'])\n",
        "print(\"Predicted Emoji Sentiments:\", predicted_labels)\n"
      ],
      "metadata": {
        "colab": {
          "base_uri": "https://localhost:8080/",
          "height": 390
        },
        "id": "_PkAXH2BOFzr",
        "outputId": "52121fc9-21d4-4a49-a29d-d870f5428dc8"
      },
      "execution_count": null,
      "outputs": [
        {
          "output_type": "stream",
          "name": "stdout",
          "text": [
            "1/1 [==============================] - 1s 1s/step\n"
          ]
        },
        {
          "output_type": "error",
          "ename": "NotFittedError",
          "evalue": "ignored",
          "traceback": [
            "\u001b[0;31m---------------------------------------------------------------------------\u001b[0m",
            "\u001b[0;31mNotFittedError\u001b[0m                            Traceback (most recent call last)",
            "\u001b[0;32m<ipython-input-23-0f8d2e707347>\u001b[0m in \u001b[0;36m<cell line: 32>\u001b[0;34m()\u001b[0m\n\u001b[1;32m     30\u001b[0m \u001b[0;31m# Assuming you have a DataFrame df with a 'text' column\u001b[0m\u001b[0;34m\u001b[0m\u001b[0;34m\u001b[0m\u001b[0m\n\u001b[1;32m     31\u001b[0m \u001b[0mdf\u001b[0m \u001b[0;34m=\u001b[0m \u001b[0mpd\u001b[0m\u001b[0;34m.\u001b[0m\u001b[0mDataFrame\u001b[0m\u001b[0;34m(\u001b[0m\u001b[0;34m{\u001b[0m\u001b[0;34m'text'\u001b[0m\u001b[0;34m:\u001b[0m \u001b[0;34m[\u001b[0m\u001b[0;34m\"i am happy 😊\"\u001b[0m\u001b[0;34m,\u001b[0m \u001b[0;34m\"😊😊😊\"\u001b[0m\u001b[0;34m]\u001b[0m\u001b[0;34m}\u001b[0m\u001b[0;34m)\u001b[0m\u001b[0;34m\u001b[0m\u001b[0;34m\u001b[0m\u001b[0m\n\u001b[0;32m---> 32\u001b[0;31m \u001b[0mpredicted_labels\u001b[0m \u001b[0;34m=\u001b[0m \u001b[0mpredict_emoji_sentiment\u001b[0m\u001b[0;34m(\u001b[0m\u001b[0mdf\u001b[0m\u001b[0;34m[\u001b[0m\u001b[0;34m'text'\u001b[0m\u001b[0;34m]\u001b[0m\u001b[0;34m)\u001b[0m\u001b[0;34m\u001b[0m\u001b[0;34m\u001b[0m\u001b[0m\n\u001b[0m\u001b[1;32m     33\u001b[0m \u001b[0mprint\u001b[0m\u001b[0;34m(\u001b[0m\u001b[0;34m\"Predicted Emoji Sentiments:\"\u001b[0m\u001b[0;34m,\u001b[0m \u001b[0mpredicted_labels\u001b[0m\u001b[0;34m)\u001b[0m\u001b[0;34m\u001b[0m\u001b[0;34m\u001b[0m\u001b[0m\n",
            "\u001b[0;32m<ipython-input-23-0f8d2e707347>\u001b[0m in \u001b[0;36mpredict_emoji_sentiment\u001b[0;34m(new_text)\u001b[0m\n\u001b[1;32m     24\u001b[0m \u001b[0;34m\u001b[0m\u001b[0m\n\u001b[1;32m     25\u001b[0m     \u001b[0;31m# Decode the predictions to get the corresponding labels\u001b[0m\u001b[0;34m\u001b[0m\u001b[0;34m\u001b[0m\u001b[0m\n\u001b[0;32m---> 26\u001b[0;31m     \u001b[0mpredicted_labels\u001b[0m \u001b[0;34m=\u001b[0m \u001b[0mlabel_encoder\u001b[0m\u001b[0;34m.\u001b[0m\u001b[0minverse_transform\u001b[0m\u001b[0;34m(\u001b[0m\u001b[0mnp\u001b[0m\u001b[0;34m.\u001b[0m\u001b[0margmax\u001b[0m\u001b[0;34m(\u001b[0m\u001b[0mpredictions\u001b[0m\u001b[0;34m,\u001b[0m \u001b[0maxis\u001b[0m\u001b[0;34m=\u001b[0m\u001b[0;36m1\u001b[0m\u001b[0;34m)\u001b[0m\u001b[0;34m)\u001b[0m\u001b[0;34m\u001b[0m\u001b[0;34m\u001b[0m\u001b[0m\n\u001b[0m\u001b[1;32m     27\u001b[0m     \u001b[0;32mreturn\u001b[0m \u001b[0mpredicted_labels\u001b[0m\u001b[0;34m\u001b[0m\u001b[0;34m\u001b[0m\u001b[0m\n\u001b[1;32m     28\u001b[0m \u001b[0;34m\u001b[0m\u001b[0m\n",
            "\u001b[0;32m/usr/local/lib/python3.10/dist-packages/sklearn/preprocessing/_label.py\u001b[0m in \u001b[0;36minverse_transform\u001b[0;34m(self, y)\u001b[0m\n\u001b[1;32m    152\u001b[0m             \u001b[0mOriginal\u001b[0m \u001b[0mencoding\u001b[0m\u001b[0;34m.\u001b[0m\u001b[0;34m\u001b[0m\u001b[0;34m\u001b[0m\u001b[0m\n\u001b[1;32m    153\u001b[0m         \"\"\"\n\u001b[0;32m--> 154\u001b[0;31m         \u001b[0mcheck_is_fitted\u001b[0m\u001b[0;34m(\u001b[0m\u001b[0mself\u001b[0m\u001b[0;34m)\u001b[0m\u001b[0;34m\u001b[0m\u001b[0;34m\u001b[0m\u001b[0m\n\u001b[0m\u001b[1;32m    155\u001b[0m         \u001b[0my\u001b[0m \u001b[0;34m=\u001b[0m \u001b[0mcolumn_or_1d\u001b[0m\u001b[0;34m(\u001b[0m\u001b[0my\u001b[0m\u001b[0;34m,\u001b[0m \u001b[0mwarn\u001b[0m\u001b[0;34m=\u001b[0m\u001b[0;32mTrue\u001b[0m\u001b[0;34m)\u001b[0m\u001b[0;34m\u001b[0m\u001b[0;34m\u001b[0m\u001b[0m\n\u001b[1;32m    156\u001b[0m         \u001b[0;31m# inverse transform of empty array is empty array\u001b[0m\u001b[0;34m\u001b[0m\u001b[0;34m\u001b[0m\u001b[0m\n",
            "\u001b[0;32m/usr/local/lib/python3.10/dist-packages/sklearn/utils/validation.py\u001b[0m in \u001b[0;36mcheck_is_fitted\u001b[0;34m(estimator, attributes, msg, all_or_any)\u001b[0m\n\u001b[1;32m   1388\u001b[0m \u001b[0;34m\u001b[0m\u001b[0m\n\u001b[1;32m   1389\u001b[0m     \u001b[0;32mif\u001b[0m \u001b[0;32mnot\u001b[0m \u001b[0mfitted\u001b[0m\u001b[0;34m:\u001b[0m\u001b[0;34m\u001b[0m\u001b[0;34m\u001b[0m\u001b[0m\n\u001b[0;32m-> 1390\u001b[0;31m         \u001b[0;32mraise\u001b[0m \u001b[0mNotFittedError\u001b[0m\u001b[0;34m(\u001b[0m\u001b[0mmsg\u001b[0m \u001b[0;34m%\u001b[0m \u001b[0;34m{\u001b[0m\u001b[0;34m\"name\"\u001b[0m\u001b[0;34m:\u001b[0m \u001b[0mtype\u001b[0m\u001b[0;34m(\u001b[0m\u001b[0mestimator\u001b[0m\u001b[0;34m)\u001b[0m\u001b[0;34m.\u001b[0m\u001b[0m__name__\u001b[0m\u001b[0;34m}\u001b[0m\u001b[0;34m)\u001b[0m\u001b[0;34m\u001b[0m\u001b[0;34m\u001b[0m\u001b[0m\n\u001b[0m\u001b[1;32m   1391\u001b[0m \u001b[0;34m\u001b[0m\u001b[0m\n\u001b[1;32m   1392\u001b[0m \u001b[0;34m\u001b[0m\u001b[0m\n",
            "\u001b[0;31mNotFittedError\u001b[0m: This LabelEncoder instance is not fitted yet. Call 'fit' with appropriate arguments before using this estimator."
          ]
        }
      ]
    },
    {
      "cell_type": "code",
      "source": [
        "# Make predictions on the test set\n",
        "y_pred_one_hot = ensemble_model.predict([X_test_padded, X_test_padded])\n",
        "\n",
        "# Convert predictions back to class labels\n",
        "y_pred_labels = np.argmax(y_pred_one_hot, axis=1)\n",
        "y_test_labels = np.argmax(y_test_one_hot, axis=1)\n",
        "\n",
        "# Decode labels if you used label encoding\n",
        "y_pred_labels = label_encoder.inverse_transform(y_pred_labels)\n",
        "y_test_labels = label_encoder.inverse_transform(y_test_labels)\n",
        "\n",
        "# Generate and print the classification report\n",
        "print(classification_report(y_test_labels, y_pred_labels))"
      ],
      "metadata": {
        "colab": {
          "base_uri": "https://localhost:8080/"
        },
        "id": "VXt6ucL0smKl",
        "outputId": "ed6f8045-a966-47e2-8939-e967abde84b3"
      },
      "execution_count": null,
      "outputs": [
        {
          "output_type": "stream",
          "name": "stdout",
          "text": [
            "387/387 [==============================] - 8s 20ms/step\n",
            "                precision    recall  f1-score   support\n",
            "\n",
            "    admiration       0.74      0.62      0.68       518\n",
            "     amusement       0.71      0.53      0.60       173\n",
            "         anger       0.66      0.41      0.51       109\n",
            "     annoyance       0.36      0.26      0.30       172\n",
            "      approval       0.39      0.36      0.38       601\n",
            "        caring       0.64      0.63      0.63       553\n",
            "     confusion       0.48      0.28      0.36        53\n",
            "     curiosity       0.45      0.52      0.48       202\n",
            "        desire       0.44      0.50      0.47       111\n",
            "disappointment       0.28      0.24      0.26       154\n",
            "   disapproval       0.44      0.29      0.35       162\n",
            "       disgust       0.80      0.54      0.65        37\n",
            " embarrassment       0.71      0.38      0.50        26\n",
            "    excitement       0.45      0.35      0.39        83\n",
            "          fear       0.57      0.55      0.56       103\n",
            "     gratitude       0.92      0.86      0.89       518\n",
            "           joy       0.58      0.49      0.53       101\n",
            "          love       0.67      0.66      0.66       395\n",
            "   nervousness       0.00      0.00      0.00         2\n",
            "       neutral       0.84      0.91      0.87      7340\n",
            "      optimism       0.73      0.57      0.64       353\n",
            "         pride       0.00      0.00      0.00         4\n",
            "   realization       0.48      0.36      0.41        39\n",
            "       remorse       0.69      0.81      0.75        27\n",
            "       sadness       0.69      0.57      0.62       481\n",
            "      surprise       0.67      0.34      0.45        58\n",
            "\n",
            "      accuracy                           0.76     12375\n",
            "     macro avg       0.55      0.46      0.50     12375\n",
            "  weighted avg       0.75      0.76      0.75     12375\n",
            "\n"
          ]
        }
      ]
    },
    {
      "cell_type": "code",
      "source": [
        "from tensorflow.keras.preprocessing.text import Tokenizer"
      ],
      "metadata": {
        "id": "9BkDi6DwZ4-P"
      },
      "execution_count": null,
      "outputs": []
    },
    {
      "cell_type": "markdown",
      "source": [
        "**Simple Naive Bayes Model**"
      ],
      "metadata": {
        "id": "cX5Jkp2W-mBf"
      }
    },
    {
      "cell_type": "markdown",
      "source": [
        "Hyperparameter Tuning(Perform a grid search to find the best hyperparameters for your model. This can include alpha values for Laplace smoothing in the Naive Bayes model.)"
      ],
      "metadata": {
        "id": "1t17I7EbVvvn"
      }
    },
    {
      "cell_type": "code",
      "source": [
        "from sklearn.model_selection import GridSearchCV\n",
        "\n",
        "# Define the parameter grid\n",
        "param_grid = {'alpha': [0.1, 0.5, 1.0, 1.5, 2.0]}\n",
        "\n",
        "# Initialize the grid search\n",
        "grid_search = GridSearchCV(MultinomialNB(), param_grid, cv=5)\n",
        "grid_search.fit(X_train, y_train)\n",
        "\n",
        "# Print the best parameters\n",
        "print(\"Best Parameters:\", grid_search.best_params_)\n",
        "\n",
        "# Use the best model for predictions\n",
        "best_clf = grid_search.best_estimator_\n",
        "predictions = best_clf.predict(X_test)\n"
      ],
      "metadata": {
        "colab": {
          "base_uri": "https://localhost:8080/"
        },
        "id": "DYcRflYsVh5l",
        "outputId": "54584436-ec10-49e5-b4fd-b2c8e94b856f"
      },
      "execution_count": null,
      "outputs": [
        {
          "output_type": "stream",
          "name": "stderr",
          "text": [
            "/usr/local/lib/python3.10/dist-packages/sklearn/model_selection/_split.py:700: UserWarning: The least populated class in y has only 2 members, which is less than n_splits=5.\n",
            "  warnings.warn(\n"
          ]
        },
        {
          "output_type": "stream",
          "name": "stdout",
          "text": [
            "Best Parameters: {'alpha': 0.1}\n"
          ]
        }
      ]
    },
    {
      "cell_type": "markdown",
      "source": [
        "Trying different Value of aplha for hyperparamtere Tuning and Found that alpha=0.1 has the best parameter"
      ],
      "metadata": {
        "id": "bT1WEXu0V9Nv"
      }
    },
    {
      "cell_type": "code",
      "source": [
        "# Example of trying different alpha values\n",
        "alphas = [0.1, 0.5, 1.0, 1.5, 2.0]\n",
        "for alpha in alphas:\n",
        "    clf = MultinomialNB(alpha=alpha)\n",
        "    clf.fit(X_train, y_train)\n",
        "    predictions = clf.predict(X_test)\n",
        "    accuracy = accuracy_score(y_test, predictions)\n",
        "    print(f\"Alpha: {alpha}, Accuracy: {accuracy:.2f}\")"
      ],
      "metadata": {
        "colab": {
          "base_uri": "https://localhost:8080/"
        },
        "id": "c5U0sy-zSisC",
        "outputId": "3a98db83-2367-4352-fe05-f0f3a800fb98"
      },
      "execution_count": null,
      "outputs": [
        {
          "output_type": "stream",
          "name": "stdout",
          "text": [
            "Alpha: 0.1, Accuracy: 0.68\n",
            "Alpha: 0.5, Accuracy: 0.67\n",
            "Alpha: 1.0, Accuracy: 0.67\n",
            "Alpha: 1.5, Accuracy: 0.67\n",
            "Alpha: 2.0, Accuracy: 0.66\n"
          ]
        }
      ]
    },
    {
      "cell_type": "code",
      "source": [
        "BNBmodel = MultinomialNB(alpha=0.1)\n",
        "BNBmodel.fit(X_train, y_train)\n",
        "y_pred1 = BNBmodel.predict(X_test)"
      ],
      "metadata": {
        "id": "Eb7LU7O6UWyc"
      },
      "execution_count": null,
      "outputs": []
    },
    {
      "cell_type": "code",
      "source": [
        "y_pred1"
      ],
      "metadata": {
        "colab": {
          "base_uri": "https://localhost:8080/"
        },
        "id": "DBzawYdeUfLu",
        "outputId": "3dd8191f-ecb7-4cdf-8d50-5e1832250d6b"
      },
      "execution_count": null,
      "outputs": [
        {
          "output_type": "execute_result",
          "data": {
            "text/plain": [
              "array(['neutral', 'neutral', 'neutral', ..., 'neutral', 'neutral',\n",
              "       'neutral'], dtype='<U14')"
            ]
          },
          "metadata": {},
          "execution_count": 50
        }
      ]
    },
    {
      "cell_type": "code",
      "source": [
        "from sklearn.metrics import accuracy_score\n",
        "\n",
        "# Assuming 'y_test' contains the true target values\n",
        "accuracy = accuracy_score(y_test, y_pred1)\n",
        "print(\"Accuracy:\", accuracy)"
      ],
      "metadata": {
        "colab": {
          "base_uri": "https://localhost:8080/"
        },
        "id": "pcos3GE3Ujat",
        "outputId": "b25687ce-075c-4390-c696-c8f034b89ac5"
      },
      "execution_count": null,
      "outputs": [
        {
          "output_type": "stream",
          "name": "stdout",
          "text": [
            "Accuracy: 0.6763953237797651\n"
          ]
        }
      ]
    },
    {
      "cell_type": "code",
      "source": [
        "from sklearn.metrics import classification_report, accuracy_score\n",
        "\n",
        "# Assuming 'y_test' contains the true target values and 'y_pred1' contains the predicted values\n",
        "accuracy = accuracy_score(y_test, y_pred1)\n",
        "print(\"Accuracy:\", accuracy)\n",
        "\n",
        "# Generate a classification report\n",
        "class_report = classification_report(y_test, y_pred1)\n",
        "print(\"Classification Report:\\n\", class_report)"
      ],
      "metadata": {
        "colab": {
          "base_uri": "https://localhost:8080/"
        },
        "id": "nZOejQH0oj8x",
        "outputId": "6f5a81cf-ab68-4ab1-bf89-104ccb0f4985"
      },
      "execution_count": null,
      "outputs": [
        {
          "output_type": "stream",
          "name": "stdout",
          "text": [
            "Accuracy: 0.6763953237797651\n"
          ]
        },
        {
          "output_type": "stream",
          "name": "stderr",
          "text": [
            "/usr/local/lib/python3.10/dist-packages/sklearn/metrics/_classification.py:1344: UndefinedMetricWarning: Precision and F-score are ill-defined and being set to 0.0 in labels with no predicted samples. Use `zero_division` parameter to control this behavior.\n",
            "  _warn_prf(average, modifier, msg_start, len(result))\n",
            "/usr/local/lib/python3.10/dist-packages/sklearn/metrics/_classification.py:1344: UndefinedMetricWarning: Precision and F-score are ill-defined and being set to 0.0 in labels with no predicted samples. Use `zero_division` parameter to control this behavior.\n",
            "  _warn_prf(average, modifier, msg_start, len(result))\n"
          ]
        },
        {
          "output_type": "stream",
          "name": "stdout",
          "text": [
            "Classification Report:\n",
            "                 precision    recall  f1-score   support\n",
            "\n",
            "    admiration       0.66      0.31      0.42      3074\n",
            "     amusement       0.81      0.25      0.38      1115\n",
            "         anger       0.64      0.10      0.18       755\n",
            "     annoyance       0.47      0.06      0.11       971\n",
            "      approval       0.46      0.06      0.11      3495\n",
            "        caring       0.52      0.43      0.47      3337\n",
            "     confusion       1.00      0.05      0.09       333\n",
            "     curiosity       0.14      0.00      0.00      1279\n",
            "        desire       0.48      0.04      0.07       647\n",
            "disappointment       0.62      0.01      0.02       946\n",
            "   disapproval       0.33      0.01      0.01       949\n",
            "       disgust       1.00      0.10      0.19       220\n",
            " embarrassment       0.75      0.04      0.07       160\n",
            "    excitement       0.65      0.14      0.24       422\n",
            "          fear       0.74      0.07      0.13       653\n",
            "     gratitude       0.80      0.60      0.68      3087\n",
            "           joy       0.66      0.11      0.19       652\n",
            "          love       0.65      0.23      0.34      2327\n",
            "   nervousness       0.00      0.00      0.00        32\n",
            "       neutral       0.68      0.98      0.80     44146\n",
            "      optimism       0.71      0.17      0.28      1977\n",
            "         pride       0.00      0.00      0.00        27\n",
            "   realization       0.50      0.01      0.01       174\n",
            "        relief       0.00      0.00      0.00         1\n",
            "       remorse       0.93      0.07      0.14       192\n",
            "       sadness       0.68      0.28      0.40      2879\n",
            "      surprise       0.67      0.03      0.06       398\n",
            "\n",
            "      accuracy                           0.68     74248\n",
            "     macro avg       0.58      0.15      0.20     74248\n",
            "  weighted avg       0.65      0.68      0.60     74248\n",
            "\n"
          ]
        },
        {
          "output_type": "stream",
          "name": "stderr",
          "text": [
            "/usr/local/lib/python3.10/dist-packages/sklearn/metrics/_classification.py:1344: UndefinedMetricWarning: Precision and F-score are ill-defined and being set to 0.0 in labels with no predicted samples. Use `zero_division` parameter to control this behavior.\n",
            "  _warn_prf(average, modifier, msg_start, len(result))\n"
          ]
        }
      ]
    },
    {
      "cell_type": "code",
      "source": [
        "# SVCmodel = LinearSVC()\n",
        "from sklearn.svm import SVC\n",
        "# SVCmodel = LinearSVC(C=1.0, max_iter=100, dual=False, random_state=42, class_weight='balanced')\n",
        "# SVCmodel = SVC(kernel='linear', n_jobs=-1)\n",
        "SVCmodel=SVC(kernel='rbf', C=1.0, gamma='scale', random_state=42)\n",
        "SVCmodel.fit(X_train, y_train)\n",
        "\n",
        "y_pred2 = SVCmodel.predict(X_test)"
      ],
      "metadata": {
        "id": "EGGe1Zq_U99d"
      },
      "execution_count": null,
      "outputs": []
    },
    {
      "cell_type": "code",
      "source": [
        "y_pred2"
      ],
      "metadata": {
        "colab": {
          "base_uri": "https://localhost:8080/"
        },
        "id": "3_cwqY73Vb2j",
        "outputId": "d6eeeb77-e8f0-428b-a2c7-d2b01905717d"
      },
      "execution_count": null,
      "outputs": [
        {
          "output_type": "execute_result",
          "data": {
            "text/plain": [
              "array(['desire', 'neutral', 'neutral', ..., 'disappointment', 'caring',\n",
              "       'approval'], dtype=object)"
            ]
          },
          "metadata": {},
          "execution_count": 62
        }
      ]
    },
    {
      "cell_type": "code",
      "source": [
        "from sklearn.metrics import classification_report, accuracy_score\n",
        "\n",
        "# Assuming 'y_test' contains the true target values and 'y_pred1' contains the predicted values\n",
        "accuracy = accuracy_score(y_test, y_pred2)\n",
        "print(\"Accuracy:\", accuracy)\n",
        "\n",
        "# Generate a classification report\n",
        "class_report = classification_report(y_test, y_pred2)\n",
        "print(\"Classification Report:\\n\", class_report)"
      ],
      "metadata": {
        "colab": {
          "base_uri": "https://localhost:8080/"
        },
        "id": "mfzqphlmwueF",
        "outputId": "21bdae7f-950c-4572-b2b8-967cfba2e1f1"
      },
      "execution_count": null,
      "outputs": [
        {
          "output_type": "stream",
          "name": "stdout",
          "text": [
            "Accuracy: 0.6224006033832561\n"
          ]
        },
        {
          "output_type": "stream",
          "name": "stderr",
          "text": [
            "/usr/local/lib/python3.10/dist-packages/sklearn/metrics/_classification.py:1344: UndefinedMetricWarning: Precision and F-score are ill-defined and being set to 0.0 in labels with no predicted samples. Use `zero_division` parameter to control this behavior.\n",
            "  _warn_prf(average, modifier, msg_start, len(result))\n",
            "/usr/local/lib/python3.10/dist-packages/sklearn/metrics/_classification.py:1344: UndefinedMetricWarning: Precision and F-score are ill-defined and being set to 0.0 in labels with no predicted samples. Use `zero_division` parameter to control this behavior.\n",
            "  _warn_prf(average, modifier, msg_start, len(result))\n"
          ]
        },
        {
          "output_type": "stream",
          "name": "stdout",
          "text": [
            "Classification Report:\n",
            "                 precision    recall  f1-score   support\n",
            "\n",
            "    admiration       0.57      0.64      0.60      3074\n",
            "     amusement       0.46      0.57      0.51      1115\n",
            "         anger       0.27      0.58      0.37       755\n",
            "     annoyance       0.22      0.38      0.28       971\n",
            "      approval       0.34      0.24      0.28      3495\n",
            "        caring       0.52      0.61      0.56      3337\n",
            "     confusion       0.10      0.39      0.16       333\n",
            "     curiosity       0.13      0.19      0.16      1279\n",
            "        desire       0.20      0.51      0.29       647\n",
            "disappointment       0.15      0.29      0.20       946\n",
            "   disapproval       0.12      0.24      0.16       949\n",
            "       disgust       0.21      0.59      0.31       220\n",
            " embarrassment       0.20      0.44      0.28       160\n",
            "    excitement       0.18      0.48      0.26       422\n",
            "          fear       0.34      0.64      0.44       653\n",
            "     gratitude       0.92      0.92      0.92      3087\n",
            "           joy       0.33      0.60      0.42       652\n",
            "          love       0.55      0.46      0.50      2327\n",
            "   nervousness       0.09      0.28      0.14        32\n",
            "       neutral       0.89      0.69      0.78     44146\n",
            "      optimism       0.54      0.59      0.57      1977\n",
            "         pride       0.19      0.26      0.22        27\n",
            "   realization       0.07      0.35      0.12       174\n",
            "        relief       0.00      0.00      0.00         1\n",
            "       remorse       0.35      0.74      0.48       192\n",
            "       sadness       0.50      0.56      0.53      2879\n",
            "      surprise       0.27      0.65      0.39       398\n",
            "\n",
            "      accuracy                           0.62     74248\n",
            "     macro avg       0.32      0.48      0.37     74248\n",
            "  weighted avg       0.71      0.62      0.65     74248\n",
            "\n"
          ]
        },
        {
          "output_type": "stream",
          "name": "stderr",
          "text": [
            "/usr/local/lib/python3.10/dist-packages/sklearn/metrics/_classification.py:1344: UndefinedMetricWarning: Precision and F-score are ill-defined and being set to 0.0 in labels with no predicted samples. Use `zero_division` parameter to control this behavior.\n",
            "  _warn_prf(average, modifier, msg_start, len(result))\n"
          ]
        }
      ]
    },
    {
      "cell_type": "code",
      "source": [
        "from sklearn.metrics import accuracy_score\n",
        "\n",
        "# Assuming 'y_test' contains the true target values\n",
        "accuracy = accuracy_score(y_test, y_pred2)\n",
        "print(\"Accuracy:\", accuracy)"
      ],
      "metadata": {
        "colab": {
          "base_uri": "https://localhost:8080/"
        },
        "id": "y1XKsY5FVdh0",
        "outputId": "e6aee402-15ca-4bf8-ee34-06ed9e66b676"
      },
      "execution_count": null,
      "outputs": [
        {
          "output_type": "stream",
          "name": "stdout",
          "text": [
            "Accuracy: 0.7762363969399849\n"
          ]
        }
      ]
    },
    {
      "cell_type": "code",
      "source": [
        "LRmodel = LogisticRegression(C = 2, max_iter = 1000, n_jobs=-1)\n",
        "LRmodel.fit(X_train, y_train)\n",
        "\n",
        "y_pred3 = LRmodel.predict(X_test)"
      ],
      "metadata": {
        "id": "k9oMk4CUVgj_"
      },
      "execution_count": null,
      "outputs": []
    },
    {
      "cell_type": "code",
      "source": [
        "y_pred3"
      ],
      "metadata": {
        "colab": {
          "base_uri": "https://localhost:8080/"
        },
        "id": "RGvyZIvzVm3O",
        "outputId": "27ba9a3b-2386-4ca1-a9d8-feee3b906d93"
      },
      "execution_count": null,
      "outputs": [
        {
          "output_type": "execute_result",
          "data": {
            "text/plain": [
              "array(['neutral', 'neutral', 'neutral', ..., 'optimism', 'caring',\n",
              "       'neutral'], dtype=object)"
            ]
          },
          "metadata": {},
          "execution_count": 27
        }
      ]
    },
    {
      "cell_type": "code",
      "source": [
        "from sklearn.metrics import accuracy_score\n",
        "\n",
        "# Assuming 'y_test' contains the true target values\n",
        "accuracy = accuracy_score(y_test, y_pred3)\n",
        "print(\"Accuracy:\", accuracy)"
      ],
      "metadata": {
        "colab": {
          "base_uri": "https://localhost:8080/"
        },
        "id": "WL_371xfVn__",
        "outputId": "956ba979-a549-42f9-dcce-9494ccb5e21b"
      },
      "execution_count": null,
      "outputs": [
        {
          "output_type": "stream",
          "name": "stdout",
          "text": [
            "Accuracy: 0.7638858959163883\n"
          ]
        }
      ]
    },
    {
      "cell_type": "code",
      "source": [
        "from sklearn.metrics import classification_report, accuracy_score\n",
        "\n",
        "# Assuming 'y_test' contains the true target values and 'y_pred1' contains the predicted values\n",
        "accuracy = accuracy_score(y_test, y_pred3)\n",
        "print(\"Accuracy:\", accuracy)\n",
        "\n",
        "# Generate a classification report\n",
        "class_report = classification_report(y_test, y_pred3)\n",
        "print(\"Classification Report:\\n\", class_report)"
      ],
      "metadata": {
        "colab": {
          "base_uri": "https://localhost:8080/"
        },
        "id": "BYWq8tVEyx9G",
        "outputId": "743ba070-4750-47d8-f0b9-c83344979fb7"
      },
      "execution_count": null,
      "outputs": [
        {
          "output_type": "stream",
          "name": "stdout",
          "text": [
            "Accuracy: 0.7638858959163883\n"
          ]
        },
        {
          "output_type": "stream",
          "name": "stderr",
          "text": [
            "/usr/local/lib/python3.10/dist-packages/sklearn/metrics/_classification.py:1344: UndefinedMetricWarning: Precision and F-score are ill-defined and being set to 0.0 in labels with no predicted samples. Use `zero_division` parameter to control this behavior.\n",
            "  _warn_prf(average, modifier, msg_start, len(result))\n",
            "/usr/local/lib/python3.10/dist-packages/sklearn/metrics/_classification.py:1344: UndefinedMetricWarning: Precision and F-score are ill-defined and being set to 0.0 in labels with no predicted samples. Use `zero_division` parameter to control this behavior.\n",
            "  _warn_prf(average, modifier, msg_start, len(result))\n"
          ]
        },
        {
          "output_type": "stream",
          "name": "stdout",
          "text": [
            "Classification Report:\n",
            "                 precision    recall  f1-score   support\n",
            "\n",
            "    admiration       0.73      0.61      0.67      3074\n",
            "     amusement       0.88      0.41      0.56      1115\n",
            "         anger       0.66      0.36      0.47       755\n",
            "     annoyance       0.50      0.19      0.27       971\n",
            "      approval       0.47      0.25      0.33      3495\n",
            "        caring       0.69      0.65      0.67      3337\n",
            "     confusion       0.72      0.22      0.33       333\n",
            "     curiosity       0.57      0.38      0.46      1279\n",
            "        desire       0.60      0.33      0.43       647\n",
            "disappointment       0.55      0.10      0.17       946\n",
            "   disapproval       0.48      0.17      0.25       949\n",
            "       disgust       0.93      0.29      0.44       220\n",
            " embarrassment       0.76      0.17      0.28       160\n",
            "    excitement       0.68      0.26      0.38       422\n",
            "          fear       0.71      0.28      0.40       653\n",
            "     gratitude       0.96      0.91      0.93      3087\n",
            "           joy       0.70      0.41      0.52       652\n",
            "          love       0.74      0.44      0.55      2327\n",
            "   nervousness       0.00      0.00      0.00        32\n",
            "       neutral       0.78      0.97      0.86     44146\n",
            "      optimism       0.74      0.56      0.64      1977\n",
            "         pride       0.60      0.11      0.19        27\n",
            "   realization       0.67      0.05      0.09       174\n",
            "        relief       0.00      0.00      0.00         1\n",
            "       remorse       0.77      0.50      0.61       192\n",
            "       sadness       0.72      0.49      0.59      2879\n",
            "      surprise       0.64      0.27      0.38       398\n",
            "\n",
            "      accuracy                           0.76     74248\n",
            "     macro avg       0.64      0.35      0.42     74248\n",
            "  weighted avg       0.74      0.76      0.73     74248\n",
            "\n"
          ]
        },
        {
          "output_type": "stream",
          "name": "stderr",
          "text": [
            "/usr/local/lib/python3.10/dist-packages/sklearn/metrics/_classification.py:1344: UndefinedMetricWarning: Precision and F-score are ill-defined and being set to 0.0 in labels with no predicted samples. Use `zero_division` parameter to control this behavior.\n",
            "  _warn_prf(average, modifier, msg_start, len(result))\n"
          ]
        }
      ]
    },
    {
      "cell_type": "code",
      "source": [
        "import xgboost as xgb"
      ],
      "metadata": {
        "id": "j32-GiVYVrYH"
      },
      "execution_count": null,
      "outputs": []
    },
    {
      "cell_type": "code",
      "source": [
        "import pandas as pd\n",
        "from sklearn.preprocessing import LabelEncoder"
      ],
      "metadata": {
        "id": "lss5EyLRuDkr"
      },
      "execution_count": null,
      "outputs": []
    },
    {
      "cell_type": "code",
      "source": [
        "label_encoder = LabelEncoder()\n",
        "\n",
        "# Assuming 'Category_Column' is the column you want to convert\n",
        "df['Category_Column_LabelEncoded'] = label_encoder.fit_transform(df['HuggingFaceEmoticon'])"
      ],
      "metadata": {
        "id": "vNnMIuRxuFej"
      },
      "execution_count": null,
      "outputs": []
    },
    {
      "cell_type": "code",
      "source": [
        "import pandas as pd\n",
        "from sklearn.preprocessing import LabelEncoder\n",
        "\n",
        "# Load your dataset into a pandas DataFrame (replace 'data.csv' with your actual file)\n",
        "# data = pd.read_csv('data.csv')\n",
        "\n",
        "# # Create a label encoder instance\n",
        "# label_encoder = LabelEncoder()\n",
        "\n",
        "# # Assuming 'Category_Column' is the column you want to convert\n",
        "# df['Category_Column_LabelEncoded'] = label_encoder.fit_transform(df['HuggingFaceEmoticon'])\n",
        "\n",
        "# Create a DataFrame for mappings\n",
        "mapping_df = pd.DataFrame({\n",
        "    'Category': df['HuggingFaceEmoticon'].unique(),\n",
        "    'Encoded_Value': label_encoder.transform(df['HuggingFaceEmoticon'].unique())\n",
        "})\n",
        "\n",
        "# Save the mapping DataFrame to a CSV file\n",
        "mapping_df.to_csv('label_mapping.csv', index=False)\n",
        "\n",
        "print(mapping_df)\n"
      ],
      "metadata": {
        "colab": {
          "base_uri": "https://localhost:8080/"
        },
        "id": "-eiSRw8evwqb",
        "outputId": "b7be9550-2074-4649-a75c-039585341f17"
      },
      "execution_count": null,
      "outputs": [
        {
          "output_type": "stream",
          "name": "stdout",
          "text": [
            "          Category  Encoded_Value\n",
            "0        amusement              1\n",
            "1          neutral             19\n",
            "2         approval              4\n",
            "3          sadness             25\n",
            "4         optimism             20\n",
            "5           caring              5\n",
            "6             love             17\n",
            "7    embarrassment             12\n",
            "8       excitement             13\n",
            "9       admiration              0\n",
            "10           anger              2\n",
            "11       curiosity              7\n",
            "12  disappointment              9\n",
            "13          desire              8\n",
            "14             joy             16\n",
            "15     disapproval             10\n",
            "16       annoyance              3\n",
            "17        surprise             26\n",
            "18       gratitude             15\n",
            "19            fear             14\n",
            "20       confusion              6\n",
            "21     realization             22\n",
            "22         disgust             11\n",
            "23         remorse             24\n",
            "24     nervousness             18\n",
            "25           pride             21\n",
            "26          relief             23\n"
          ]
        }
      ]
    },
    {
      "cell_type": "code",
      "source": [
        "df"
      ],
      "metadata": {
        "colab": {
          "base_uri": "https://localhost:8080/",
          "height": 1000
        },
        "id": "ZhhJU8OQuj9A",
        "outputId": "72e94f15-5efb-4ac6-fbb2-c0c7f6225d87"
      },
      "execution_count": null,
      "outputs": [
        {
          "output_type": "execute_result",
          "data": {
            "text/plain": [
              "        Unnamed: 0.4  Unnamed: 0.3  Unnamed: 0.2  Unnamed: 0.1  Unnamed: 0  \\\n",
              "0                  0             0             0             0           0   \n",
              "1                  1             1             1             1           1   \n",
              "2                  2             2             2             2           2   \n",
              "3                  3             3             3             3           3   \n",
              "4                  4             4             4             4           4   \n",
              "...              ...           ...           ...           ...         ...   \n",
              "247486        247486        672114        672114        672114      190910   \n",
              "247487        247487        672115        672115        672115      190911   \n",
              "247488        247488        672120        672120        672120      190916   \n",
              "247489        247489        672121        672121        672121      190917   \n",
              "247490        247490        672124        672124        672124      190920   \n",
              "\n",
              "                                                        0  \\\n",
              "0       #tfiglobal geopolitics aug #macron  legitimise...   \n",
              "1       🇺🇦🇷🇺⚡the armed forces of ukraine attacked the ...   \n",
              "2       @kminorschneider @miriam @scottuhltx 😥 🇺🇦 help...   \n",
              "3       darya dugina daughter of “putin’s brain” alexa...   \n",
              "4       @huxijin_gt i knew u don't know the proper wor...   \n",
              "...                                                   ...   \n",
              "247486  time to stop the war 🙏 #timepoy #ukraine @time...   \n",
              "247487  beautiful goosebumps man maaaaaximum aquarius ...   \n",
              "247488  need company to finish your morning porridge b...   \n",
              "247489  please do something if you can for us we are h...   \n",
              "247490  for iranian women✌🏻🙋🏻‍♀️great heroes❤️#womanli...   \n",
              "\n",
              "                                                     Text  \\\n",
              "0       geopolitics aug legitimises controlover ⁉️fran...   \n",
              "1       🇺🇦🇷🇺⚡the armed forces of ukraine attacked the ...   \n",
              "2       😥 🇺🇦 help stop putin at president zelensky s 🌍...   \n",
              "3       darya dugina daughter of “putin’s brain” alexa...   \n",
              "4       gt i knew you don t know the proper word for s...   \n",
              "...                                                   ...   \n",
              "247486         time to stop the war 🙏 zelenska tv ukraine   \n",
              "247487  beautiful goosebumps man maaaaaximum aquarius ...   \n",
              "247488  need company to finish your morning porridge b...   \n",
              "247489  please do something if you can for us we are h...   \n",
              "247490  for iranian women✌🏻🙋🏻‍♀️great heroes❤️#womanli...   \n",
              "\n",
              "                                            LemmatizeText HuggingFaceEmoticon  \\\n",
              "0       geopolitics aug legitimises controlover ⁉️fran...           amusement   \n",
              "1       🇺🇦🇷🇺⚡the armed force of ukraine attacked the n...             neutral   \n",
              "2       😥 🇺🇦 help stop putin at president zelensky s 🌍...            approval   \n",
              "3       darya dugina daughter of “putin’s brain” alexa...             neutral   \n",
              "4       gt i knew you don t know the proper word for s...             neutral   \n",
              "...                                                   ...                 ...   \n",
              "247486         time to stop the war 🙏 zelenska tv ukraine             neutral   \n",
              "247487  beautiful goosebump man maaaaaximum aquarius ♒...          admiration   \n",
              "247488  need company to finish your morning porridge b...              desire   \n",
              "247489  please do something if you can for u we are ho...              desire   \n",
              "247490  for iranian women✌🏻🙋🏻‍♀️great heroes❤️#womanli...             neutral   \n",
              "\n",
              "        Category_Column_LabelEncoded  \n",
              "0                                  1  \n",
              "1                                 19  \n",
              "2                                  4  \n",
              "3                                 19  \n",
              "4                                 19  \n",
              "...                              ...  \n",
              "247486                            19  \n",
              "247487                             0  \n",
              "247488                             8  \n",
              "247489                             8  \n",
              "247490                            19  \n",
              "\n",
              "[247491 rows x 10 columns]"
            ],
            "text/html": [
              "\n",
              "  <div id=\"df-0d2f90dd-2f0b-4d37-b1b3-b405c09e6295\" class=\"colab-df-container\">\n",
              "    <div>\n",
              "<style scoped>\n",
              "    .dataframe tbody tr th:only-of-type {\n",
              "        vertical-align: middle;\n",
              "    }\n",
              "\n",
              "    .dataframe tbody tr th {\n",
              "        vertical-align: top;\n",
              "    }\n",
              "\n",
              "    .dataframe thead th {\n",
              "        text-align: right;\n",
              "    }\n",
              "</style>\n",
              "<table border=\"1\" class=\"dataframe\">\n",
              "  <thead>\n",
              "    <tr style=\"text-align: right;\">\n",
              "      <th></th>\n",
              "      <th>Unnamed: 0.4</th>\n",
              "      <th>Unnamed: 0.3</th>\n",
              "      <th>Unnamed: 0.2</th>\n",
              "      <th>Unnamed: 0.1</th>\n",
              "      <th>Unnamed: 0</th>\n",
              "      <th>0</th>\n",
              "      <th>Text</th>\n",
              "      <th>LemmatizeText</th>\n",
              "      <th>HuggingFaceEmoticon</th>\n",
              "      <th>Category_Column_LabelEncoded</th>\n",
              "    </tr>\n",
              "  </thead>\n",
              "  <tbody>\n",
              "    <tr>\n",
              "      <th>0</th>\n",
              "      <td>0</td>\n",
              "      <td>0</td>\n",
              "      <td>0</td>\n",
              "      <td>0</td>\n",
              "      <td>0</td>\n",
              "      <td>#tfiglobal geopolitics aug #macron  legitimise...</td>\n",
              "      <td>geopolitics aug legitimises controlover ⁉️fran...</td>\n",
              "      <td>geopolitics aug legitimises controlover ⁉️fran...</td>\n",
              "      <td>amusement</td>\n",
              "      <td>1</td>\n",
              "    </tr>\n",
              "    <tr>\n",
              "      <th>1</th>\n",
              "      <td>1</td>\n",
              "      <td>1</td>\n",
              "      <td>1</td>\n",
              "      <td>1</td>\n",
              "      <td>1</td>\n",
              "      <td>🇺🇦🇷🇺⚡the armed forces of ukraine attacked the ...</td>\n",
              "      <td>🇺🇦🇷🇺⚡the armed forces of ukraine attacked the ...</td>\n",
              "      <td>🇺🇦🇷🇺⚡the armed force of ukraine attacked the n...</td>\n",
              "      <td>neutral</td>\n",
              "      <td>19</td>\n",
              "    </tr>\n",
              "    <tr>\n",
              "      <th>2</th>\n",
              "      <td>2</td>\n",
              "      <td>2</td>\n",
              "      <td>2</td>\n",
              "      <td>2</td>\n",
              "      <td>2</td>\n",
              "      <td>@kminorschneider @miriam @scottuhltx 😥 🇺🇦 help...</td>\n",
              "      <td>😥 🇺🇦 help stop putin at president zelensky s 🌍...</td>\n",
              "      <td>😥 🇺🇦 help stop putin at president zelensky s 🌍...</td>\n",
              "      <td>approval</td>\n",
              "      <td>4</td>\n",
              "    </tr>\n",
              "    <tr>\n",
              "      <th>3</th>\n",
              "      <td>3</td>\n",
              "      <td>3</td>\n",
              "      <td>3</td>\n",
              "      <td>3</td>\n",
              "      <td>3</td>\n",
              "      <td>darya dugina daughter of “putin’s brain” alexa...</td>\n",
              "      <td>darya dugina daughter of “putin’s brain” alexa...</td>\n",
              "      <td>darya dugina daughter of “putin’s brain” alexa...</td>\n",
              "      <td>neutral</td>\n",
              "      <td>19</td>\n",
              "    </tr>\n",
              "    <tr>\n",
              "      <th>4</th>\n",
              "      <td>4</td>\n",
              "      <td>4</td>\n",
              "      <td>4</td>\n",
              "      <td>4</td>\n",
              "      <td>4</td>\n",
              "      <td>@huxijin_gt i knew u don't know the proper wor...</td>\n",
              "      <td>gt i knew you don t know the proper word for s...</td>\n",
              "      <td>gt i knew you don t know the proper word for s...</td>\n",
              "      <td>neutral</td>\n",
              "      <td>19</td>\n",
              "    </tr>\n",
              "    <tr>\n",
              "      <th>...</th>\n",
              "      <td>...</td>\n",
              "      <td>...</td>\n",
              "      <td>...</td>\n",
              "      <td>...</td>\n",
              "      <td>...</td>\n",
              "      <td>...</td>\n",
              "      <td>...</td>\n",
              "      <td>...</td>\n",
              "      <td>...</td>\n",
              "      <td>...</td>\n",
              "    </tr>\n",
              "    <tr>\n",
              "      <th>247486</th>\n",
              "      <td>247486</td>\n",
              "      <td>672114</td>\n",
              "      <td>672114</td>\n",
              "      <td>672114</td>\n",
              "      <td>190910</td>\n",
              "      <td>time to stop the war 🙏 #timepoy #ukraine @time...</td>\n",
              "      <td>time to stop the war 🙏 zelenska tv ukraine</td>\n",
              "      <td>time to stop the war 🙏 zelenska tv ukraine</td>\n",
              "      <td>neutral</td>\n",
              "      <td>19</td>\n",
              "    </tr>\n",
              "    <tr>\n",
              "      <th>247487</th>\n",
              "      <td>247487</td>\n",
              "      <td>672115</td>\n",
              "      <td>672115</td>\n",
              "      <td>672115</td>\n",
              "      <td>190911</td>\n",
              "      <td>beautiful goosebumps man maaaaaximum aquarius ...</td>\n",
              "      <td>beautiful goosebumps man maaaaaximum aquarius ...</td>\n",
              "      <td>beautiful goosebump man maaaaaximum aquarius ♒...</td>\n",
              "      <td>admiration</td>\n",
              "      <td>0</td>\n",
              "    </tr>\n",
              "    <tr>\n",
              "      <th>247488</th>\n",
              "      <td>247488</td>\n",
              "      <td>672120</td>\n",
              "      <td>672120</td>\n",
              "      <td>672120</td>\n",
              "      <td>190916</td>\n",
              "      <td>need company to finish your morning porridge b...</td>\n",
              "      <td>need company to finish your morning porridge b...</td>\n",
              "      <td>need company to finish your morning porridge b...</td>\n",
              "      <td>desire</td>\n",
              "      <td>8</td>\n",
              "    </tr>\n",
              "    <tr>\n",
              "      <th>247489</th>\n",
              "      <td>247489</td>\n",
              "      <td>672121</td>\n",
              "      <td>672121</td>\n",
              "      <td>672121</td>\n",
              "      <td>190917</td>\n",
              "      <td>please do something if you can for us we are h...</td>\n",
              "      <td>please do something if you can for us we are h...</td>\n",
              "      <td>please do something if you can for u we are ho...</td>\n",
              "      <td>desire</td>\n",
              "      <td>8</td>\n",
              "    </tr>\n",
              "    <tr>\n",
              "      <th>247490</th>\n",
              "      <td>247490</td>\n",
              "      <td>672124</td>\n",
              "      <td>672124</td>\n",
              "      <td>672124</td>\n",
              "      <td>190920</td>\n",
              "      <td>for iranian women✌🏻🙋🏻‍♀️great heroes❤️#womanli...</td>\n",
              "      <td>for iranian women✌🏻🙋🏻‍♀️great heroes❤️#womanli...</td>\n",
              "      <td>for iranian women✌🏻🙋🏻‍♀️great heroes❤️#womanli...</td>\n",
              "      <td>neutral</td>\n",
              "      <td>19</td>\n",
              "    </tr>\n",
              "  </tbody>\n",
              "</table>\n",
              "<p>247491 rows × 10 columns</p>\n",
              "</div>\n",
              "    <div class=\"colab-df-buttons\">\n",
              "\n",
              "  <div class=\"colab-df-container\">\n",
              "    <button class=\"colab-df-convert\" onclick=\"convertToInteractive('df-0d2f90dd-2f0b-4d37-b1b3-b405c09e6295')\"\n",
              "            title=\"Convert this dataframe to an interactive table.\"\n",
              "            style=\"display:none;\">\n",
              "\n",
              "  <svg xmlns=\"http://www.w3.org/2000/svg\" height=\"24px\" viewBox=\"0 -960 960 960\">\n",
              "    <path d=\"M120-120v-720h720v720H120Zm60-500h600v-160H180v160Zm220 220h160v-160H400v160Zm0 220h160v-160H400v160ZM180-400h160v-160H180v160Zm440 0h160v-160H620v160ZM180-180h160v-160H180v160Zm440 0h160v-160H620v160Z\"/>\n",
              "  </svg>\n",
              "    </button>\n",
              "\n",
              "  <style>\n",
              "    .colab-df-container {\n",
              "      display:flex;\n",
              "      gap: 12px;\n",
              "    }\n",
              "\n",
              "    .colab-df-convert {\n",
              "      background-color: #E8F0FE;\n",
              "      border: none;\n",
              "      border-radius: 50%;\n",
              "      cursor: pointer;\n",
              "      display: none;\n",
              "      fill: #1967D2;\n",
              "      height: 32px;\n",
              "      padding: 0 0 0 0;\n",
              "      width: 32px;\n",
              "    }\n",
              "\n",
              "    .colab-df-convert:hover {\n",
              "      background-color: #E2EBFA;\n",
              "      box-shadow: 0px 1px 2px rgba(60, 64, 67, 0.3), 0px 1px 3px 1px rgba(60, 64, 67, 0.15);\n",
              "      fill: #174EA6;\n",
              "    }\n",
              "\n",
              "    .colab-df-buttons div {\n",
              "      margin-bottom: 4px;\n",
              "    }\n",
              "\n",
              "    [theme=dark] .colab-df-convert {\n",
              "      background-color: #3B4455;\n",
              "      fill: #D2E3FC;\n",
              "    }\n",
              "\n",
              "    [theme=dark] .colab-df-convert:hover {\n",
              "      background-color: #434B5C;\n",
              "      box-shadow: 0px 1px 3px 1px rgba(0, 0, 0, 0.15);\n",
              "      filter: drop-shadow(0px 1px 2px rgba(0, 0, 0, 0.3));\n",
              "      fill: #FFFFFF;\n",
              "    }\n",
              "  </style>\n",
              "\n",
              "    <script>\n",
              "      const buttonEl =\n",
              "        document.querySelector('#df-0d2f90dd-2f0b-4d37-b1b3-b405c09e6295 button.colab-df-convert');\n",
              "      buttonEl.style.display =\n",
              "        google.colab.kernel.accessAllowed ? 'block' : 'none';\n",
              "\n",
              "      async function convertToInteractive(key) {\n",
              "        const element = document.querySelector('#df-0d2f90dd-2f0b-4d37-b1b3-b405c09e6295');\n",
              "        const dataTable =\n",
              "          await google.colab.kernel.invokeFunction('convertToInteractive',\n",
              "                                                    [key], {});\n",
              "        if (!dataTable) return;\n",
              "\n",
              "        const docLinkHtml = 'Like what you see? Visit the ' +\n",
              "          '<a target=\"_blank\" href=https://colab.research.google.com/notebooks/data_table.ipynb>data table notebook</a>'\n",
              "          + ' to learn more about interactive tables.';\n",
              "        element.innerHTML = '';\n",
              "        dataTable['output_type'] = 'display_data';\n",
              "        await google.colab.output.renderOutput(dataTable, element);\n",
              "        const docLink = document.createElement('div');\n",
              "        docLink.innerHTML = docLinkHtml;\n",
              "        element.appendChild(docLink);\n",
              "      }\n",
              "    </script>\n",
              "  </div>\n",
              "\n",
              "\n",
              "<div id=\"df-a05e338e-945e-4964-a533-1dbbcacc166b\">\n",
              "  <button class=\"colab-df-quickchart\" onclick=\"quickchart('df-a05e338e-945e-4964-a533-1dbbcacc166b')\"\n",
              "            title=\"Suggest charts.\"\n",
              "            style=\"display:none;\">\n",
              "\n",
              "<svg xmlns=\"http://www.w3.org/2000/svg\" height=\"24px\"viewBox=\"0 0 24 24\"\n",
              "     width=\"24px\">\n",
              "    <g>\n",
              "        <path d=\"M19 3H5c-1.1 0-2 .9-2 2v14c0 1.1.9 2 2 2h14c1.1 0 2-.9 2-2V5c0-1.1-.9-2-2-2zM9 17H7v-7h2v7zm4 0h-2V7h2v10zm4 0h-2v-4h2v4z\"/>\n",
              "    </g>\n",
              "</svg>\n",
              "  </button>\n",
              "\n",
              "<style>\n",
              "  .colab-df-quickchart {\n",
              "    background-color: #E8F0FE;\n",
              "    border: none;\n",
              "    border-radius: 50%;\n",
              "    cursor: pointer;\n",
              "    display: none;\n",
              "    fill: #1967D2;\n",
              "    height: 32px;\n",
              "    padding: 0 0 0 0;\n",
              "    width: 32px;\n",
              "  }\n",
              "\n",
              "  .colab-df-quickchart:hover {\n",
              "    background-color: #E2EBFA;\n",
              "    box-shadow: 0px 1px 2px rgba(60, 64, 67, 0.3), 0px 1px 3px 1px rgba(60, 64, 67, 0.15);\n",
              "    fill: #174EA6;\n",
              "  }\n",
              "\n",
              "  [theme=dark] .colab-df-quickchart {\n",
              "    background-color: #3B4455;\n",
              "    fill: #D2E3FC;\n",
              "  }\n",
              "\n",
              "  [theme=dark] .colab-df-quickchart:hover {\n",
              "    background-color: #434B5C;\n",
              "    box-shadow: 0px 1px 3px 1px rgba(0, 0, 0, 0.15);\n",
              "    filter: drop-shadow(0px 1px 2px rgba(0, 0, 0, 0.3));\n",
              "    fill: #FFFFFF;\n",
              "  }\n",
              "</style>\n",
              "\n",
              "  <script>\n",
              "    async function quickchart(key) {\n",
              "      const charts = await google.colab.kernel.invokeFunction(\n",
              "          'suggestCharts', [key], {});\n",
              "    }\n",
              "    (() => {\n",
              "      let quickchartButtonEl =\n",
              "        document.querySelector('#df-a05e338e-945e-4964-a533-1dbbcacc166b button');\n",
              "      quickchartButtonEl.style.display =\n",
              "        google.colab.kernel.accessAllowed ? 'block' : 'none';\n",
              "    })();\n",
              "  </script>\n",
              "</div>\n",
              "    </div>\n",
              "  </div>\n"
            ]
          },
          "metadata": {},
          "execution_count": 15
        }
      ]
    },
    {
      "cell_type": "code",
      "source": [
        "X=df.LemmatizeText\n",
        "y=df.Category_Column_LabelEncoded"
      ],
      "metadata": {
        "id": "nroepFZRuqey"
      },
      "execution_count": null,
      "outputs": []
    },
    {
      "cell_type": "code",
      "source": [
        "# Separating the 95% data for training data and 5% for testing data\n",
        "X_train, X_test, y_train, y_test = train_test_split(X,y,test_size = 0.30, random_state =0)"
      ],
      "metadata": {
        "id": "FMTs_A8hvX4M"
      },
      "execution_count": null,
      "outputs": []
    },
    {
      "cell_type": "code",
      "source": [
        "vectoriser = TfidfVectorizer(ngram_range=(1,2), max_features=500000)\n",
        "vectoriser.fit(X_train)\n",
        "print('No. of feature_words: ', len(vectoriser.get_feature_names_out()))"
      ],
      "metadata": {
        "colab": {
          "base_uri": "https://localhost:8080/"
        },
        "id": "ugalahTA0JMJ",
        "outputId": "b8f9aebd-e9c5-4bda-8620-f57b9bf49ba3"
      },
      "execution_count": null,
      "outputs": [
        {
          "output_type": "stream",
          "name": "stdout",
          "text": [
            "No. of feature_words:  500000\n"
          ]
        }
      ]
    },
    {
      "cell_type": "code",
      "source": [
        "X_train = vectoriser.transform(X_train)\n",
        "X_test  = vectoriser.transform(X_test)"
      ],
      "metadata": {
        "id": "KlM_J87n0McG"
      },
      "execution_count": null,
      "outputs": []
    },
    {
      "cell_type": "code",
      "source": [
        "my_model = xgb.XGBClassifier()\n",
        "my_model.fit(X_train, y_train)\n",
        "\n",
        "# Predicting the Test set results\n",
        "y_pred4 = my_model.predict(X_test)"
      ],
      "metadata": {
        "id": "Z6J11vnQnCnR"
      },
      "execution_count": null,
      "outputs": []
    },
    {
      "cell_type": "code",
      "source": [
        "from sklearn.metrics import classification_report, accuracy_score\n",
        "\n",
        "# Assuming 'y_test' contains the true target values and 'y_pred1' contains the predicted values\n",
        "accuracy = accuracy_score(y_test, y_pred4)\n",
        "print(\"Accuracy:\", accuracy)\n",
        "\n",
        "# Generate a classification report\n",
        "class_report = classification_report(y_test, y_pred4)\n",
        "print(\"Classification Report:\\n\", class_report)"
      ],
      "metadata": {
        "colab": {
          "base_uri": "https://localhost:8080/"
        },
        "id": "f48xjgXPz0b6",
        "outputId": "e4e50a97-af37-4c8b-e29a-b1518569f4df"
      },
      "execution_count": null,
      "outputs": [
        {
          "output_type": "stream",
          "name": "stdout",
          "text": [
            "Accuracy: 0.7587409761879108\n",
            "Classification Report:\n",
            "               precision    recall  f1-score   support\n",
            "\n",
            "           0       0.70      0.60      0.64      3074\n",
            "           1       0.82      0.52      0.63      1115\n",
            "           2       0.61      0.40      0.48       755\n",
            "           3       0.51      0.19      0.28       971\n",
            "           4       0.48      0.15      0.23      3495\n",
            "           5       0.70      0.60      0.64      3337\n",
            "           6       0.66      0.38      0.49       333\n",
            "           7       0.56      0.40      0.47      1279\n",
            "           8       0.58      0.40      0.47       647\n",
            "           9       0.52      0.10      0.17       946\n",
            "          10       0.42      0.16      0.23       949\n",
            "          11       0.70      0.49      0.58       220\n",
            "          12       0.71      0.51      0.59       160\n",
            "          13       0.64      0.37      0.47       422\n",
            "          14       0.64      0.47      0.54       653\n",
            "          15       0.93      0.93      0.93      3087\n",
            "          16       0.62      0.55      0.58       652\n",
            "          17       0.73      0.43      0.54      2327\n",
            "          18       0.30      0.31      0.31        32\n",
            "          19       0.78      0.95      0.86     44146\n",
            "          20       0.76      0.56      0.65      1977\n",
            "          21       0.48      0.37      0.42        27\n",
            "          22       0.57      0.30      0.40       174\n",
            "          23       0.00      0.00      0.00         1\n",
            "          24       0.67      0.81      0.74       192\n",
            "          25       0.76      0.43      0.55      2879\n",
            "          26       0.57      0.54      0.55       398\n",
            "\n",
            "    accuracy                           0.76     74248\n",
            "   macro avg       0.61      0.44      0.50     74248\n",
            "weighted avg       0.74      0.76      0.73     74248\n",
            "\n"
          ]
        }
      ]
    },
    {
      "cell_type": "markdown",
      "source": [
        "CNN"
      ],
      "metadata": {
        "id": "K3dWNGdgXSzk"
      }
    },
    {
      "cell_type": "code",
      "source": [
        "import numpy as np\n",
        "import pandas as pd\n",
        "import tensorflow as tf\n",
        "from tensorflow import keras\n",
        "from tensorflow.keras.preprocessing.text import Tokenizer\n",
        "from tensorflow.keras.preprocessing.sequence import pad_sequences\n",
        "from sklearn.model_selection import train_test_split"
      ],
      "metadata": {
        "id": "S91djxVKPQiP"
      },
      "execution_count": null,
      "outputs": []
    },
    {
      "cell_type": "code",
      "source": [
        "\n",
        "\n",
        "# Split the data into training and testing sets\n",
        "train_sentences, test_sentences, train_labels, test_labels = train_test_split(df[\"LemmatizeText\"], df[\"Category_Column_LabelEncoded\"], test_size=0.2, random_state=42)\n",
        "\n",
        "# Tokenize the sentences\n",
        "tokenizer = Tokenizer(num_words=10000, oov_token=\"<OOV>\")\n",
        "tokenizer.fit_on_texts(train_sentences)\n",
        "\n",
        "# Convert the sentences to sequences\n",
        "train_sequences = tokenizer.texts_to_sequences(train_sentences)\n",
        "test_sequences = tokenizer.texts_to_sequences(test_sentences)\n",
        "\n",
        "# Pad the sequences to have the same length\n",
        "max_length = 100\n",
        "train_padded = pad_sequences(train_sequences, maxlen=max_length, truncating=\"post\", padding=\"post\")\n",
        "test_padded = pad_sequences(test_sequences, maxlen=max_length, truncating=\"post\", padding=\"post\")\n",
        "\n",
        "# Define the CNN model\n",
        "model = keras.Sequential([\n",
        "    keras.layers.Embedding(input_dim=10000, output_dim=16, input_length=max_length),\n",
        "    keras.layers.Conv1D(32, 5, activation=\"relu\"),\n",
        "    keras.layers.MaxPooling1D(5),\n",
        "    keras.layers.Conv1D(64, 5, activation=\"relu\"),\n",
        "    keras.layers.GlobalMaxPooling1D(),\n",
        "    # keras.layers.Dense(64, activation='softmax'),\n",
        "    keras.layers.Dense(27, activation='softmax')\n",
        "])\n",
        "\n",
        "# Compile the model\n",
        "model.compile(loss=\"sparse_categorical_crossentropy\", optimizer=\"adam\", metrics=[\"accuracy\"])\n",
        "\n",
        "model.summary()\n",
        "\n",
        "# Train the model\n",
        "history=model.fit(train_padded, train_labels, epochs=10, validation_data=(test_padded, test_labels))\n",
        "\n",
        "# Evaluate the model\n",
        "test_loss, test_acc = model.evaluate(test_padded, test_labels)\n",
        "print(\"Test accuracy:\", test_acc)"
      ],
      "metadata": {
        "colab": {
          "base_uri": "https://localhost:8080/"
        },
        "id": "ZjTl42Z7XlgC",
        "outputId": "97b21dd4-5c0d-48b0-ffe1-00a093f2dae5"
      },
      "execution_count": null,
      "outputs": [
        {
          "output_type": "stream",
          "name": "stdout",
          "text": [
            "Model: \"sequential_3\"\n",
            "_________________________________________________________________\n",
            " Layer (type)                Output Shape              Param #   \n",
            "=================================================================\n",
            " embedding_3 (Embedding)     (None, 100, 16)           160000    \n",
            "                                                                 \n",
            " conv1d_6 (Conv1D)           (None, 96, 32)            2592      \n",
            "                                                                 \n",
            " max_pooling1d_3 (MaxPooling  (None, 19, 32)           0         \n",
            " 1D)                                                             \n",
            "                                                                 \n",
            " conv1d_7 (Conv1D)           (None, 15, 64)            10304     \n",
            "                                                                 \n",
            " global_max_pooling1d_3 (Glo  (None, 64)               0         \n",
            " balMaxPooling1D)                                                \n",
            "                                                                 \n",
            " dense_3 (Dense)             (None, 27)                1755      \n",
            "                                                                 \n",
            "=================================================================\n",
            "Total params: 174,651\n",
            "Trainable params: 174,651\n",
            "Non-trainable params: 0\n",
            "_________________________________________________________________\n",
            "Epoch 1/10\n",
            "6188/6188 [==============================] - 69s 11ms/step - loss: 1.4891 - accuracy: 0.6265 - val_loss: 1.3063 - val_accuracy: 0.6599\n",
            "Epoch 2/10\n",
            "6188/6188 [==============================] - 71s 11ms/step - loss: 1.0531 - accuracy: 0.7199 - val_loss: 0.9608 - val_accuracy: 0.7387\n",
            "Epoch 3/10\n",
            "6188/6188 [==============================] - 74s 12ms/step - loss: 0.8566 - accuracy: 0.7607 - val_loss: 0.9112 - val_accuracy: 0.7507\n",
            "Epoch 4/10\n",
            "6188/6188 [==============================] - 76s 12ms/step - loss: 0.7652 - accuracy: 0.7814 - val_loss: 0.8848 - val_accuracy: 0.7549\n",
            "Epoch 5/10\n",
            "6188/6188 [==============================] - 71s 11ms/step - loss: 0.7000 - accuracy: 0.7969 - val_loss: 0.8954 - val_accuracy: 0.7536\n",
            "Epoch 6/10\n",
            "6188/6188 [==============================] - 103s 17ms/step - loss: 0.6507 - accuracy: 0.8091 - val_loss: 0.9010 - val_accuracy: 0.7553\n",
            "Epoch 7/10\n",
            "6188/6188 [==============================] - 96s 16ms/step - loss: 0.6115 - accuracy: 0.8203 - val_loss: 0.9297 - val_accuracy: 0.7512\n",
            "Epoch 8/10\n",
            "6188/6188 [==============================] - 81s 13ms/step - loss: 0.5799 - accuracy: 0.8291 - val_loss: 0.9621 - val_accuracy: 0.7466\n",
            "Epoch 9/10\n",
            "6188/6188 [==============================] - 71s 11ms/step - loss: 0.5504 - accuracy: 0.8373 - val_loss: 0.9820 - val_accuracy: 0.7458\n",
            "Epoch 10/10\n",
            "6188/6188 [==============================] - 71s 11ms/step - loss: 0.5275 - accuracy: 0.8445 - val_loss: 1.0217 - val_accuracy: 0.7413\n",
            "1547/1547 [==============================] - 6s 4ms/step - loss: 1.0217 - accuracy: 0.7413\n",
            "Test accuracy: 0.7412675023078918\n"
          ]
        }
      ]
    },
    {
      "cell_type": "code",
      "source": [
        "import matplotlib.pyplot as plt\n",
        "\n",
        "def plot_graphs(history, string):\n",
        "  plt.plot(history.history[string])\n",
        "  plt.plot(history.history['val_'+string])\n",
        "  plt.xlabel(\"Epochs\")\n",
        "  plt.ylabel(string)\n",
        "  plt.legend([string, 'val_'+string])\n",
        "  plt.show()\n",
        "\n",
        "plot_graphs(history, \"accuracy\")\n",
        "plot_graphs(history, \"loss\")"
      ],
      "metadata": {
        "colab": {
          "base_uri": "https://localhost:8080/",
          "height": 881
        },
        "id": "77zwZShXYcW1",
        "outputId": "30a1226d-5ea8-4492-edf9-29ac791c4805"
      },
      "execution_count": null,
      "outputs": [
        {
          "output_type": "display_data",
          "data": {
            "text/plain": [
              "<Figure size 640x480 with 1 Axes>"
            ],
            "image/png": "[encoded data removed]"
          },
          "metadata": {}
        },
        {
          "output_type": "display_data",
          "data": {
            "text/plain": [
              "<Figure size 640x480 with 1 Axes>"
            ],
            "image/png": "[encoded data removed]"
          },
          "metadata": {}
        }
      ]
    },
    {
      "cell_type": "code",
      "source": [
        "y_pred_probs = model.predict(test_padded)\n",
        "y_pred_classes = y_pred_probs.argmax(axis=-1)\n",
        "\n",
        "# Compute the evaluation metrics\n",
        "from sklearn.metrics import classification_report\n",
        "report = classification_report(test_labels, y_pred_classes)\n",
        "print(report)"
      ],
      "metadata": {
        "colab": {
          "base_uri": "https://localhost:8080/"
        },
        "id": "qbxeVc2oY3Ml",
        "outputId": "f3e4ff10-6654-43a3-9b03-ae190b5cd77b"
      },
      "execution_count": null,
      "outputs": [
        {
          "output_type": "stream",
          "name": "stdout",
          "text": [
            "1547/1547 [==============================] - 5s 3ms/step\n",
            "              precision    recall  f1-score   support\n",
            "\n",
            "           0       0.61      0.63      0.62      2126\n",
            "           1       0.75      0.53      0.62       788\n",
            "           2       0.48      0.41      0.44       494\n",
            "           3       0.33      0.31      0.32       628\n",
            "           4       0.36      0.29      0.32      2329\n",
            "           5       0.63      0.60      0.61      2282\n",
            "           6       0.46      0.29      0.36       225\n",
            "           7       0.41      0.37      0.39       819\n",
            "           8       0.48      0.38      0.42       439\n",
            "           9       0.30      0.18      0.22       604\n",
            "          10       0.35      0.23      0.28       673\n",
            "          11       0.78      0.41      0.54       179\n",
            "          12       0.68      0.56      0.61       105\n",
            "          13       0.47      0.25      0.33       265\n",
            "          14       0.63      0.46      0.53       448\n",
            "          15       0.93      0.84      0.88      2120\n",
            "          16       0.63      0.44      0.51       418\n",
            "          17       0.68      0.57      0.62      1525\n",
            "          18       0.22      0.07      0.10        30\n",
            "          19       0.82      0.91      0.86     29256\n",
            "          20       0.58      0.59      0.59      1266\n",
            "          21       0.00      0.00      0.00        17\n",
            "          22       0.55      0.22      0.31       138\n",
            "          24       0.83      0.35      0.49       138\n",
            "          25       0.59      0.53      0.56      1904\n",
            "          26       0.52      0.47      0.50       283\n",
            "\n",
            "    accuracy                           0.74     49499\n",
            "   macro avg       0.54      0.42      0.46     49499\n",
            "weighted avg       0.72      0.74      0.73     49499\n",
            "\n"
          ]
        },
        {
          "output_type": "stream",
          "name": "stderr",
          "text": [
            "/usr/local/lib/python3.10/dist-packages/sklearn/metrics/_classification.py:1344: UndefinedMetricWarning: Precision and F-score are ill-defined and being set to 0.0 in labels with no predicted samples. Use `zero_division` parameter to control this behavior.\n",
            "  _warn_prf(average, modifier, msg_start, len(result))\n",
            "/usr/local/lib/python3.10/dist-packages/sklearn/metrics/_classification.py:1344: UndefinedMetricWarning: Precision and F-score are ill-defined and being set to 0.0 in labels with no predicted samples. Use `zero_division` parameter to control this behavior.\n",
            "  _warn_prf(average, modifier, msg_start, len(result))\n",
            "/usr/local/lib/python3.10/dist-packages/sklearn/metrics/_classification.py:1344: UndefinedMetricWarning: Precision and F-score are ill-defined and being set to 0.0 in labels with no predicted samples. Use `zero_division` parameter to control this behavior.\n",
            "  _warn_prf(average, modifier, msg_start, len(result))\n"
          ]
        }
      ]
    },
    {
      "cell_type": "markdown",
      "source": [
        "LSTM"
      ],
      "metadata": {
        "id": "L8YZd6TOaXDA"
      }
    },
    {
      "cell_type": "code",
      "source": [
        "import re\n",
        "import pandas as pd\n",
        "import numpy as np\n",
        "from sklearn.preprocessing import LabelEncoder\n",
        "from sklearn.model_selection import train_test_split\n",
        "from keras.preprocessing.text import Tokenizer\n",
        "from tensorflow.keras.preprocessing.sequence import pad_sequences\n",
        "import keras\n",
        "from sklearn.metrics import classification_report\n",
        "from sklearn.metrics import accuracy_score\n",
        "import math\n",
        "import nltk"
      ],
      "metadata": {
        "id": "P9zDAxwKaYtr"
      },
      "execution_count": null,
      "outputs": []
    },
    {
      "cell_type": "code",
      "source": [
        "train_sentences, test_sentences, train_labels, test_labels = train_test_split(df['LemmatizeText'], df['Category_Column_LabelEncoded'], stratify = df['Category_Column_LabelEncoded'])\n"
      ],
      "metadata": {
        "id": "SDVgBrWAavJL"
      },
      "execution_count": null,
      "outputs": []
    },
    {
      "cell_type": "code",
      "source": [
        "# Hyperparameters of the model\n",
        "vocab_size = 3000 # choose based on statistics\n",
        "oov_tok = ''\n",
        "embedding_dim = 100\n",
        "max_length = 200 # choose based on statistics, for example 150 to 200\n",
        "padding_type='post'\n",
        "trunc_type='post'\n",
        "# tokenize sentences\n",
        "tokenizer = Tokenizer(num_words = vocab_size, oov_token=oov_tok)\n",
        "tokenizer.fit_on_texts(train_sentences)\n",
        "word_index = tokenizer.word_index\n",
        "# convert train dataset to sequence and pad sequences\n",
        "train_sequences = tokenizer.texts_to_sequences(train_sentences)\n",
        "train_padded = pad_sequences(train_sequences, padding='post', maxlen=max_length)\n",
        "# convert Test dataset to sequence and pad sequences\n",
        "test_sequences = tokenizer.texts_to_sequences(test_sentences)\n",
        "test_padded = pad_sequences(test_sequences, padding='post', maxlen=max_length)\n"
      ],
      "metadata": {
        "id": "-jGEts28bDJY"
      },
      "execution_count": null,
      "outputs": []
    },
    {
      "cell_type": "code",
      "source": [
        "from tensorflow.keras.layers import Dense, Flatten, LSTM, Dropout, Activation, Embedding, Bidirectional\n"
      ],
      "metadata": {
        "id": "8NQ6fRv7bJZR"
      },
      "execution_count": null,
      "outputs": []
    },
    {
      "cell_type": "code",
      "source": [
        "from keras.models import Sequential"
      ],
      "metadata": {
        "id": "LfeQ0NGUbNDC"
      },
      "execution_count": null,
      "outputs": []
    },
    {
      "cell_type": "code",
      "source": [
        "!pip install keras-metrics"
      ],
      "metadata": {
        "colab": {
          "base_uri": "https://localhost:8080/"
        },
        "id": "4Fq6xiLNbRfn",
        "outputId": "08ad1945-0f9a-476f-fa69-ea3e791b3b04"
      },
      "execution_count": null,
      "outputs": [
        {
          "output_type": "stream",
          "name": "stdout",
          "text": [
            "Collecting keras-metrics\n",
            "  Downloading keras_metrics-1.1.0-py2.py3-none-any.whl (5.6 kB)\n",
            "Requirement already satisfied: Keras>=2.1.5 in /usr/local/lib/python3.10/dist-packages (from keras-metrics) (2.12.0)\n",
            "Installing collected packages: keras-metrics\n",
            "Successfully installed keras-metrics-1.1.0\n"
          ]
        }
      ]
    },
    {
      "cell_type": "code",
      "source": [
        "import tensorflow as tf\n",
        "import keras_metrics as km"
      ],
      "metadata": {
        "id": "izN7kFT_bU3v"
      },
      "execution_count": null,
      "outputs": []
    },
    {
      "cell_type": "code",
      "source": [
        "# model initialization\n",
        "model=Sequential()\n",
        "\n",
        "model.add(Embedding(vocab_size, embedding_dim))\n",
        "model.add(Dropout(0.5))\n",
        "model.add(Bidirectional(LSTM(embedding_dim)))\n",
        "model.add(Dense(27,activation='softmax'))\n",
        "\n",
        "\n",
        "\n",
        "\n",
        "model.compile(loss='sparse_categorical_crossentropy',\n",
        "              optimizer='adam',\n",
        "              metrics=['accuracy'])\n",
        "\n",
        "model.summary()\n"
      ],
      "metadata": {
        "colab": {
          "base_uri": "https://localhost:8080/"
        },
        "id": "9whxzBhsbYcK",
        "outputId": "8a805097-3887-4808-f211-ef0ade53da3b"
      },
      "execution_count": null,
      "outputs": [
        {
          "output_type": "stream",
          "name": "stdout",
          "text": [
            "Model: \"sequential_4\"\n",
            "_________________________________________________________________\n",
            " Layer (type)                Output Shape              Param #   \n",
            "=================================================================\n",
            " embedding_4 (Embedding)     (None, None, 100)         300000    \n",
            "                                                                 \n",
            " dropout (Dropout)           (None, None, 100)         0         \n",
            "                                                                 \n",
            " bidirectional (Bidirectiona  (None, 200)              160800    \n",
            " l)                                                              \n",
            "                                                                 \n",
            " dense_4 (Dense)             (None, 27)                5427      \n",
            "                                                                 \n",
            "=================================================================\n",
            "Total params: 466,227\n",
            "Trainable params: 466,227\n",
            "Non-trainable params: 0\n",
            "_________________________________________________________________\n"
          ]
        }
      ]
    },
    {
      "cell_type": "code",
      "source": [
        "num_epochs = 10\n",
        "history = model.fit(train_padded, train_labels,\n",
        "                    epochs=num_epochs, verbose=1,\n",
        "                    validation_split=0.1)\n",
        "\n",
        "\n"
      ],
      "metadata": {
        "colab": {
          "base_uri": "https://localhost:8080/"
        },
        "id": "x6KNUu5gbbng",
        "outputId": "35b324d3-a075-4f9a-e77d-1ca0dde66dda"
      },
      "execution_count": null,
      "outputs": [
        {
          "output_type": "stream",
          "name": "stdout",
          "text": [
            "Epoch 1/10\n",
            "5221/5221 [==============================] - 2269s 433ms/step - loss: 1.1627 - accuracy: 0.7031 - val_loss: 0.9522 - val_accuracy: 0.7439\n",
            "Epoch 2/10\n",
            "5221/5221 [==============================] - 2125s 407ms/step - loss: 0.9122 - accuracy: 0.7476 - val_loss: 0.8766 - val_accuracy: 0.7551\n",
            "Epoch 3/10\n",
            "5221/5221 [==============================] - 2113s 405ms/step - loss: 0.8454 - accuracy: 0.7602 - val_loss: 0.8456 - val_accuracy: 0.7610\n",
            "Epoch 4/10\n",
            "5221/5221 [==============================] - 2148s 411ms/step - loss: 0.8069 - accuracy: 0.7682 - val_loss: 0.8446 - val_accuracy: 0.7612\n",
            "Epoch 5/10\n",
            "5221/5221 [==============================] - 2138s 409ms/step - loss: 0.7803 - accuracy: 0.7740 - val_loss: 0.8258 - val_accuracy: 0.7645\n",
            "Epoch 6/10\n",
            "5221/5221 [==============================] - 2148s 411ms/step - loss: 0.7627 - accuracy: 0.7784 - val_loss: 0.8256 - val_accuracy: 0.7658\n",
            "Epoch 7/10\n",
            "5221/5221 [==============================] - 2134s 409ms/step - loss: 0.7433 - accuracy: 0.7817 - val_loss: 0.8240 - val_accuracy: 0.7661\n",
            "Epoch 8/10\n",
            "5221/5221 [==============================] - 2124s 407ms/step - loss: 0.7301 - accuracy: 0.7855 - val_loss: 0.8290 - val_accuracy: 0.7675\n",
            "Epoch 9/10\n",
            "5221/5221 [==============================] - 2130s 408ms/step - loss: 0.7158 - accuracy: 0.7887 - val_loss: 0.8248 - val_accuracy: 0.7655\n",
            "Epoch 10/10\n",
            "5221/5221 [==============================] - 2116s 405ms/step - loss: 0.7075 - accuracy: 0.7905 - val_loss: 0.8318 - val_accuracy: 0.7658\n"
          ]
        }
      ]
    },
    {
      "cell_type": "code",
      "source": [
        "import matplotlib.pyplot as plt\n",
        "\n",
        "def plot_graphs(history, string):\n",
        "  plt.plot(history.history[string])\n",
        "  plt.plot(history.history['val_'+string])\n",
        "  plt.xlabel(\"Epochs\")\n",
        "  plt.ylabel(string)\n",
        "  plt.legend([string, 'val_'+string])\n",
        "  plt.show()\n",
        "\n",
        "plot_graphs(history, \"accuracy\")\n",
        "plot_graphs(history, \"loss\")"
      ],
      "metadata": {
        "colab": {
          "base_uri": "https://localhost:8080/",
          "height": 881
        },
        "id": "gR_SXqqIbeNI",
        "outputId": "f9848b25-3427-4bdc-e928-f2ff894c95c4"
      },
      "execution_count": null,
      "outputs": [
        {
          "output_type": "display_data",
          "data": {
            "text/plain": [
              "<Figure size 640x480 with 1 Axes>"
            ],
            "image/png": "[encoded data removed]"
          },
          "metadata": {}
        },
        {
          "output_type": "display_data",
          "data": {
            "text/plain": [
              "<Figure size 640x480 with 1 Axes>"
            ],
            "image/png": "[encoded data removed]"
          },
          "metadata": {}
        }
      ]
    },
    {
      "cell_type": "code",
      "source": [
        "y_pred_probs = model.predict(test_padded)\n",
        "y_pred_classes = y_pred_probs.argmax(axis=-1)\n",
        "\n",
        "# Compute the evaluation metrics\n",
        "from sklearn.metrics import classification_report\n",
        "report = classification_report(test_labels, y_pred_classes)\n",
        "print(report)"
      ],
      "metadata": {
        "colab": {
          "base_uri": "https://localhost:8080/"
        },
        "id": "csFj7N47bgyx",
        "outputId": "f9f77216-fc03-46bc-e25e-4584f3413465"
      },
      "execution_count": null,
      "outputs": [
        {
          "output_type": "stream",
          "name": "stdout",
          "text": [
            "1934/1934 [==============================] - 183s 94ms/step\n",
            "              precision    recall  f1-score   support\n",
            "\n",
            "           0       0.66      0.64      0.65      2556\n",
            "           1       0.71      0.46      0.56       954\n",
            "           2       0.52      0.44      0.48       617\n",
            "           3       0.50      0.24      0.32       811\n",
            "           4       0.47      0.29      0.36      2931\n",
            "           5       0.66      0.64      0.65      2850\n",
            "           6       0.62      0.39      0.48       298\n",
            "           7       0.56      0.47      0.51      1068\n",
            "           8       0.60      0.49      0.54       531\n",
            "           9       0.40      0.16      0.22       754\n",
            "          10       0.45      0.25      0.32       823\n",
            "          11       0.73      0.50      0.59       201\n",
            "          12       0.51      0.32      0.39       129\n",
            "          13       0.51      0.37      0.43       339\n",
            "          14       0.61      0.49      0.54       533\n",
            "          15       0.91      0.89      0.90      2638\n",
            "          16       0.61      0.50      0.55       536\n",
            "          17       0.67      0.64      0.66      1940\n",
            "          18       0.42      0.32      0.37        34\n",
            "          19       0.82      0.93      0.87     36693\n",
            "          20       0.71      0.61      0.65      1605\n",
            "          21       0.33      0.50      0.40        24\n",
            "          22       0.55      0.19      0.28       156\n",
            "          23       0.00      0.00      0.00         1\n",
            "          24       0.77      0.59      0.67       167\n",
            "          25       0.70      0.52      0.60      2350\n",
            "          26       0.57      0.57      0.57       334\n",
            "\n",
            "    accuracy                           0.77     61873\n",
            "   macro avg       0.58      0.46      0.50     61873\n",
            "weighted avg       0.75      0.77      0.75     61873\n",
            "\n"
          ]
        },
        {
          "output_type": "stream",
          "name": "stderr",
          "text": [
            "/usr/local/lib/python3.10/dist-packages/sklearn/metrics/_classification.py:1344: UndefinedMetricWarning: Precision and F-score are ill-defined and being set to 0.0 in labels with no predicted samples. Use `zero_division` parameter to control this behavior.\n",
            "  _warn_prf(average, modifier, msg_start, len(result))\n",
            "/usr/local/lib/python3.10/dist-packages/sklearn/metrics/_classification.py:1344: UndefinedMetricWarning: Precision and F-score are ill-defined and being set to 0.0 in labels with no predicted samples. Use `zero_division` parameter to control this behavior.\n",
            "  _warn_prf(average, modifier, msg_start, len(result))\n",
            "/usr/local/lib/python3.10/dist-packages/sklearn/metrics/_classification.py:1344: UndefinedMetricWarning: Precision and F-score are ill-defined and being set to 0.0 in labels with no predicted samples. Use `zero_division` parameter to control this behavior.\n",
            "  _warn_prf(average, modifier, msg_start, len(result))\n"
          ]
        }
      ]
    },
    {
      "cell_type": "markdown",
      "source": [
        "Random Forest"
      ],
      "metadata": {
        "id": "NXBg8Ynheqbe"
      }
    },
    {
      "cell_type": "code",
      "source": [
        "import pandas as pd\n",
        "from sklearn.feature_extraction.text import CountVectorizer\n",
        "from sklearn.model_selection import train_test_split\n",
        "from sklearn.ensemble import RandomForestClassifier\n",
        "from sklearn.metrics import classification_report"
      ],
      "metadata": {
        "id": "ZOIs_R0ResVe"
      },
      "execution_count": null,
      "outputs": []
    },
    {
      "cell_type": "code",
      "source": [
        "rf_classifier = RandomForestClassifier(n_estimators=10, random_state=42)"
      ],
      "metadata": {
        "id": "zLGGNRMYewwy"
      },
      "execution_count": null,
      "outputs": []
    },
    {
      "cell_type": "code",
      "source": [
        "rf_classifier.fit(X_train, y_train)\n",
        "\n",
        "# Predict sentiment labels on the test data\n",
        "y_pred = rf_classifier.predict(X_test)"
      ],
      "metadata": {
        "id": "TMiHApnje2pD"
      },
      "execution_count": null,
      "outputs": []
    },
    {
      "cell_type": "code",
      "source": [
        "print(classification_report(y_test, y_pred))"
      ],
      "metadata": {
        "colab": {
          "base_uri": "https://localhost:8080/"
        },
        "id": "zMMrs4nee6gc",
        "outputId": "5144fddf-b1ac-46b1-8f5b-516d9fc74a63"
      },
      "execution_count": null,
      "outputs": [
        {
          "output_type": "stream",
          "name": "stdout",
          "text": [
            "              precision    recall  f1-score   support\n",
            "\n",
            "           0       0.59      0.36      0.45      3074\n",
            "           1       0.57      0.14      0.22      1115\n",
            "           2       0.57      0.19      0.29       755\n",
            "           3       0.43      0.05      0.09       971\n",
            "           4       0.36      0.12      0.18      3495\n",
            "           5       0.61      0.47      0.53      3337\n",
            "           6       0.68      0.08      0.15       333\n",
            "           7       0.51      0.13      0.20      1279\n",
            "           8       0.59      0.14      0.22       647\n",
            "           9       0.55      0.05      0.09       946\n",
            "          10       0.43      0.06      0.11       949\n",
            "          11       0.57      0.11      0.19       220\n",
            "          12       0.86      0.07      0.14       160\n",
            "          13       0.65      0.19      0.30       422\n",
            "          14       0.60      0.05      0.10       653\n",
            "          15       0.88      0.77      0.82      3087\n",
            "          16       0.66      0.24      0.35       652\n",
            "          17       0.64      0.27      0.38      2327\n",
            "          18       0.00      0.00      0.00        32\n",
            "          19       0.70      0.97      0.81     44146\n",
            "          20       0.79      0.23      0.36      1977\n",
            "          21       1.00      0.15      0.26        27\n",
            "          22       1.00      0.02      0.03       174\n",
            "          23       0.00      0.00      0.00         1\n",
            "          24       0.69      0.12      0.21       192\n",
            "          25       0.75      0.19      0.31      2879\n",
            "          26       0.60      0.06      0.11       398\n",
            "\n",
            "    accuracy                           0.69     74248\n",
            "   macro avg       0.60      0.20      0.26     74248\n",
            "weighted avg       0.67      0.69      0.63     74248\n",
            "\n"
          ]
        },
        {
          "output_type": "stream",
          "name": "stderr",
          "text": [
            "/usr/local/lib/python3.10/dist-packages/sklearn/metrics/_classification.py:1344: UndefinedMetricWarning: Precision and F-score are ill-defined and being set to 0.0 in labels with no predicted samples. Use `zero_division` parameter to control this behavior.\n",
            "  _warn_prf(average, modifier, msg_start, len(result))\n",
            "/usr/local/lib/python3.10/dist-packages/sklearn/metrics/_classification.py:1344: UndefinedMetricWarning: Precision and F-score are ill-defined and being set to 0.0 in labels with no predicted samples. Use `zero_division` parameter to control this behavior.\n",
            "  _warn_prf(average, modifier, msg_start, len(result))\n",
            "/usr/local/lib/python3.10/dist-packages/sklearn/metrics/_classification.py:1344: UndefinedMetricWarning: Precision and F-score are ill-defined and being set to 0.0 in labels with no predicted samples. Use `zero_division` parameter to control this behavior.\n",
            "  _warn_prf(average, modifier, msg_start, len(result))\n"
          ]
        }
      ]
    },
    {
      "cell_type": "code",
      "source": [
        "from sklearn.metrics import classification_report, accuracy_score"
      ],
      "metadata": {
        "id": "t2SylZS5n-7J"
      },
      "execution_count": null,
      "outputs": []
    },
    {
      "cell_type": "code",
      "source": [
        "accuracy = accuracy_score(y_test, y_pred)\n",
        "print(\"Accuracy:\", accuracy)"
      ],
      "metadata": {
        "colab": {
          "base_uri": "https://localhost:8080/"
        },
        "id": "iO8gzMC6fdJf",
        "outputId": "4e082f5e-fdff-4d7e-9197-7e56570a3faa"
      },
      "execution_count": null,
      "outputs": [
        {
          "output_type": "stream",
          "name": "stdout",
          "text": [
            "Accuracy: 0.6900253205473548\n"
          ]
        }
      ]
    },
    {
      "cell_type": "code",
      "source": [],
      "metadata": {
        "id": "OFOzLUckoGPZ"
      },
      "execution_count": null,
      "outputs": []
    }
  ]
}